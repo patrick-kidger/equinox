{
 "cells": [
  {
   "cell_type": "markdown",
   "source": [
    "# Proximal Policy Optimization with Brax\n",
    "\n",
    "Proximal Policy Optimization (PPO) is an on-policy, model-free Reinforcement Learning algorithm.\n",
    "\n",
    "As a simulator of choice we use [Brax](https://github.com/google/brax), since it is written in JAX and supports several continuous-control environments. Also, it is blazingly fast!\n",
    "\n",
    "For particular details about PPO implementation, you can read the original [PPO paper from arxiv](https://arxiv.org/abs/1707.06347) or [this awesome article](https://iclr-blog-track.github.io/2022/03/25/ppo-implementation-details)\n",
    "\n",
    "\n",
    "!!! cite \"Reference\"\n",
    "```bibtex\n",
    "@misc{schulman2017proximal,\n",
    "      title={Proximal Policy Optimization Algorithms},\n",
    "      author={John Schulman and Filip Wolski and Prafulla Dhariwal and Alec Radford and Oleg Klimov},\n",
    "      year={2017},\n",
    "      eprint={1707.06347},\n",
    "      archivePrefix={arXiv},\n",
    "      primaryClass={cs.LG}\n",
    "}\n",
    "```\n"
   ],
   "metadata": {
    "id": "qgXboN5aN9MX"
   }
  },
  {
   "cell_type": "markdown",
   "source": [
    "Include all the libraries we need. In fact, we have only three dependencies: JAX, Brax and Equinox."
   ],
   "metadata": {
    "id": "AUKGhZ1WB_K-"
   }
  },
  {
   "cell_type": "code",
   "execution_count": 1,
   "metadata": {
    "id": "sFx5yceozxFi"
   },
   "outputs": [],
   "source": [
    "# JAX, Autograd and XLA\n",
    "# GitHub: https://github.com/google/jax\n",
    "import jax\n",
    "from jax import lax\n",
    "from jax import random as jr\n",
    "from jax import numpy as jnp\n",
    "from jax import tree_util as jtu\n",
    "\n",
    "# Optax, optimizers for machine learning in JAX\n",
    "# GitHub: https://github.com/google-deepmind/optax\n",
    "import optax\n",
    "\n",
    "# Equinox, awesome library for (awesome) neural networks in JAX\n",
    "# GitHub: https://github.com/patrick-kidger/equinox;\n",
    "# Arxiv: https://arxiv.org/abs/2111.00254\n",
    "import equinox as eqx\n",
    "\n",
    "# Brax, vectorized continuous RL environments, in JAX\n",
    "# GitHub: https://github.com/google/brax;\n",
    "# Arxiv: https://arxiv.org/abs/2106.13281\n",
    "from brax import envs\n",
    "\n",
    "from collections.abc import Callable"
   ]
  },
  {
   "cell_type": "markdown",
   "metadata": {
    "id": "jTSLKsU-yyja"
   },
   "source": [
    "A few utility functions that are similar to other Equinox filtered wrappers.\n",
    "\n",
    "In the implementation we are constantly using lax.scan, and hence wrapping it, so that it can consume partially-static PyTrees seems nice."
   ]
  },
  {
   "cell_type": "code",
   "execution_count": 2,
   "metadata": {
    "id": "Ca2ekgyQD99U"
   },
   "outputs": [],
   "source": [
    "# A few of utility functions, that automatically partition PyTrees\n",
    "@eqx.filter_jit\n",
    "def filter_scan(f: Callable, init, xs, *args, **kwargs):\n",
    "    \"\"\"Same as lax.scan, but allows to have eqx.Module in carry\"\"\"\n",
    "    init_dynamic_carry, static_carry = eqx.partition(init, eqx.is_array)\n",
    "\n",
    "    def to_scan(dynamic_carry, x):\n",
    "        carry = eqx.combine(dynamic_carry, static_carry)\n",
    "        new_carry, out = f(carry, x)\n",
    "        dynamic_new_carry, _ = eqx.partition(new_carry, eqx.is_array)\n",
    "        return dynamic_new_carry, out\n",
    "\n",
    "    out_carry, out_ys = lax.scan(to_scan, init_dynamic_carry, xs, *args, **kwargs)\n",
    "    return eqx.combine(out_carry, static_carry), out_ys\n",
    "\n",
    "\n",
    "@eqx.filter_jit\n",
    "def filter_cond(pred, true_f: Callable, false_f: Callable, *args):\n",
    "    \"\"\"Same as lax.cond, but allows to return eqx.Module\"\"\"\n",
    "    dynamic_true, static_true = eqx.partition(true_f(*args), eqx.is_array)\n",
    "    dynamic_false, static_false = eqx.partition(false_f(*args), eqx.is_array)\n",
    "\n",
    "    static_part = eqx.error_if(\n",
    "        static_true,\n",
    "        static_true != static_false,\n",
    "        \"Filtered conditional arguments should have the same static part\",\n",
    "    )\n",
    "\n",
    "    dynamic_part = lax.cond(pred, lambda *_: dynamic_true, lambda *_: dynamic_false)\n",
    "    return eqx.combine(dynamic_part, static_part)"
   ]
  },
  {
   "cell_type": "markdown",
   "metadata": {
    "id": "25TkGpz3zioH"
   },
   "source": [
    "Several useful dataclasses:\n",
    "* **LogNormalDistribution**: instead of using the standard scipy implementation, we have implemented a custom one, so that it has a faster entropy computation.\n",
    "* **Action**: represents an action taken by the Agent, includes quite some useful information.\n",
    "* **RunningStats**: computes approximate running mean/std of an arbitrary distribution.\n",
    "* **Transition**: stores information about a particular state of the environment, and some data about the way transition between this state and next one happened."
   ]
  },
  {
   "cell_type": "code",
   "execution_count": 3,
   "metadata": {
    "id": "KyUpyYNVuYQZ"
   },
   "outputs": [],
   "source": [
    "class LogNormalDistribution(eqx.Module):\n",
    "    \"\"\"Multivariate Log Normal distribution with diagonal covariance\"\"\"\n",
    "\n",
    "    mean: jax.Array\n",
    "    log_std: jax.Array\n",
    "\n",
    "    def get_pdf(self, value):\n",
    "        normalized = (value - self.mean) / jnp.exp(self.log_std)\n",
    "        return jax.scipy.stats.norm.logpdf(normalized).sum()\n",
    "\n",
    "    def sample(self, key: jr.PRNGKey):\n",
    "        return jr.normal(key, self.mean.shape) * jnp.exp(self.log_std) + self.mean\n",
    "\n",
    "    def entropy(self):\n",
    "        return self.log_std.sum() * 0.5  # entropy without the constant factor\n",
    "\n",
    "\n",
    "class Action(eqx.Module):\n",
    "    distr: LogNormalDistribution  # Actor model output distribution\n",
    "    raw: jax.Array  # action, that is sampled from the output distribution\n",
    "    constrained: jax.Array  # action applied on the environment\n",
    "\n",
    "\n",
    "class RunningStats(eqx.Module):\n",
    "    dim: int\n",
    "    mean: jax.Array\n",
    "    M2: jax.Array\n",
    "    n: jax.Array\n",
    "\n",
    "    def __init__(self, dim, mean=None, M2=None, n=jnp.ones((), dtype=jnp.int32)):\n",
    "        self.dim = dim\n",
    "        self.mean = jnp.zeros(dim) if mean is None else mean\n",
    "        self.M2 = jnp.zeros(dim) + 1e-6 if M2 is None else M2\n",
    "        self.n = n\n",
    "\n",
    "    def normalize(self, x):\n",
    "        std = jnp.sqrt(self.M2 / self.n)\n",
    "        std = jnp.clip(std, 1e-6, 1e6)\n",
    "\n",
    "        out = (x - self.mean) / std\n",
    "        out = jnp.clip(out, -10, 10)\n",
    "        return out\n",
    "\n",
    "    def update_with(self, obs):\n",
    "        new_n = self.n + obs.shape[0]\n",
    "\n",
    "        diff_to_old_mean = obs - self.mean\n",
    "        new_mean = self.mean + diff_to_old_mean.sum(axis=0) / new_n\n",
    "\n",
    "        diff_to_new_mean = obs - new_mean\n",
    "        var_update = jnp.sum(diff_to_old_mean * diff_to_new_mean, axis=0)\n",
    "\n",
    "        return RunningStats(self.dim, mean=new_mean, M2=self.M2 + var_update, n=new_n)\n",
    "\n",
    "\n",
    "class Transition(eqx.Module):\n",
    "    \"\"\"Represents a transition between two adjacent environment states.\"\"\"\n",
    "\n",
    "    observation: jax.Array  # observation on the current state\n",
    "    action: Action  # action that was taken on the current state\n",
    "    reward: float  # reward, that was given as the result of the action\n",
    "    next_observation: jax.Array  # next observation\n",
    "    extras: dict  # any simulator-extracted hints, like end of episode signal"
   ]
  },
  {
   "cell_type": "markdown",
   "metadata": {
    "id": "7IHRqFzZZp01"
   },
   "source": [
    "Let's make all the neural network classes. The approach is standard for Actor-Critic methods:\n",
    "* **Critic**, that estimates the TD residual (sum of discounted rewards for all the future), given the state (observation).\n",
    "* **Actor**, that outputs policy action given the state. In our implementation, **Actor** consists of the **MeanNetwork** that outputs mean of the action distribution given the current state, and the **log_std** parameter, that is trained, but does not depend on the state. This is an implementation detail: frequently, **log_std** is also predicted by a neural network, and depends on the state, but we decided to keep it a simple trainable parameter. The output of the **Actor** is an **Action** that contains the output distribution and the sampled action.\n",
    "* **Agent** allows to address both **Actor** and **Critic** via a single interface. Moreover, it includes some useful transformations of the input/output of the networks: it normalizes the observations, so that the input to the MLPs approximately follows Gaussian distribution, and constrains the output action to the (-1, 1) range.\n",
    "\n",
    "Sizes of layers for all the MLPs (neural networks) are chosen arbitrarily; Feel free to change them and look at the effect on the performance :)"
   ]
  },
  {
   "cell_type": "code",
   "execution_count": 4,
   "metadata": {
    "id": "7EvryteDt91d"
   },
   "outputs": [],
   "source": [
    "class Critic(eqx.Module):\n",
    "    structure: list\n",
    "\n",
    "    def __init__(self, key: jr.PRNGKey, observation_size: int):\n",
    "        output_size = 1  # output is the value, TD residual, always a single output\n",
    "\n",
    "        key1, key2, key3, key4 = jr.split(key, 4)\n",
    "        self.structure = [\n",
    "            eqx.nn.Linear(observation_size, 64, key=key1),\n",
    "            jax.nn.tanh,\n",
    "            eqx.nn.Linear(64, 64, key=key2),\n",
    "            jax.nn.tanh,\n",
    "            eqx.nn.Linear(64, 64, key=key3),\n",
    "            jax.nn.tanh,\n",
    "            eqx.nn.Linear(64, output_size, key=key4),\n",
    "        ]\n",
    "\n",
    "    def __call__(self, x):\n",
    "        for operator in self.structure:\n",
    "            x = operator(x)\n",
    "        return x\n",
    "\n",
    "\n",
    "class Actor(eqx.Module):\n",
    "    mean_mlp: list\n",
    "    log_std: jax.Array\n",
    "\n",
    "    def __init__(\n",
    "        self,\n",
    "        key: jr.PRNGKey,\n",
    "        observation_size: int,\n",
    "        action_size: int,\n",
    "        initial_std: float,\n",
    "    ):\n",
    "        key1, key2, key3, key4 = jax.random.split(key, 4)\n",
    "        self.mean_mlp = [\n",
    "            eqx.nn.Linear(observation_size, 64, key=key1),\n",
    "            jax.nn.tanh,\n",
    "            eqx.nn.Linear(64, 64, key=key2),\n",
    "            jax.nn.tanh,\n",
    "            eqx.nn.Linear(64, 64, key=key3),\n",
    "            jax.nn.tanh,\n",
    "            eqx.nn.Linear(64, action_size, key=key4),\n",
    "        ]\n",
    "\n",
    "        # scaling down the weights of the output layer improves performance\n",
    "        self.mean_mlp = eqx.tree_at(\n",
    "            where=lambda s: s[-1].weight,\n",
    "            pytree=self.mean_mlp,\n",
    "            replace_fn=lambda weight: weight * 0.01,\n",
    "        )\n",
    "\n",
    "        self.log_std = jnp.ones((action_size,)) * jnp.log(initial_std)\n",
    "\n",
    "    def __call__(self, x):\n",
    "        for operator in self.mean_mlp:\n",
    "            x = operator(x)\n",
    "        return LogNormalDistribution(x, self.log_std)\n",
    "\n",
    "\n",
    "class Agent(eqx.Module):\n",
    "    obs_size: int\n",
    "    act_size: int\n",
    "    critic: Critic\n",
    "    actor: Actor\n",
    "    running_stats: RunningStats\n",
    "\n",
    "    def __init__(\n",
    "        self,\n",
    "        key: jr.PRNGKey,\n",
    "        obs_size: int,\n",
    "        act_size: int,\n",
    "        initial_actor_std: float = 0.5,\n",
    "    ):\n",
    "        self.obs_size = obs_size\n",
    "        self.act_size = act_size\n",
    "\n",
    "        key1, key2 = jax.random.split(key, 2)\n",
    "        self.critic = Critic(key1, obs_size)\n",
    "        self.actor = Actor(key2, obs_size, act_size, initial_actor_std)\n",
    "\n",
    "        self.running_stats = RunningStats(self.obs_size)\n",
    "\n",
    "    def get_value(self, obs):\n",
    "        normalized = self.running_stats.normalize(obs)\n",
    "        return self.critic(normalized)\n",
    "\n",
    "    def get_action(self, key: jr.PRNGKey, obs):\n",
    "        normalized = self.running_stats.normalize(obs)\n",
    "        distr = self.actor(normalized)\n",
    "        raw_action = distr.sample(key)\n",
    "\n",
    "        # constrain the action to the (-1, 1) range with tanh\n",
    "        constrained_action = jnp.tanh(raw_action)\n",
    "\n",
    "        return Action(raw=raw_action, constrained=constrained_action, distr=distr)\n",
    "\n",
    "    def update_running_stats(self, data):\n",
    "        data = data.reshape((-1, self.obs_size))\n",
    "        return eqx.tree_at(\n",
    "            where=lambda actor_critic: actor_critic.running_stats,\n",
    "            pytree=self,\n",
    "            replace=self.running_stats.update_with(data),\n",
    "        )\n",
    "\n",
    "    def get_trainable(self):\n",
    "        return eqx.filter(\n",
    "            self,\n",
    "            filter_spec=lambda x: not isinstance(x, RunningStats) and eqx.is_array(x),\n",
    "            is_leaf=lambda x: isinstance(x, RunningStats),\n",
    "        )"
   ]
  },
  {
   "cell_type": "markdown",
   "source": [
    "**generate_unroll** is the main way to interact with the environment: given policy, it returns the **Transition**s between states."
   ],
   "metadata": {
    "id": "AnP4GVhlsuVk"
   }
  },
  {
   "cell_type": "code",
   "execution_count": 5,
   "metadata": {
    "id": "w8HiREHa-2ZF"
   },
   "outputs": [],
   "source": [
    "def generate_unroll(\n",
    "    key: jr.PRNGKey,\n",
    "    env,\n",
    "    starting_state,\n",
    "    policy: Callable,\n",
    "    unroll_length,\n",
    "    extra_fields={},\n",
    "):\n",
    "    \"\"\"Collects trajectories of given unroll length.\"\"\"\n",
    "\n",
    "    def to_scan(carry, _):\n",
    "        current_key, state = carry\n",
    "        current_key, next_key = jr.split(current_key)\n",
    "\n",
    "        keys_policy = jr.split(current_key, state.obs.shape[0])\n",
    "        action = eqx.filter_vmap(policy)(keys_policy, state.obs)\n",
    "        next_state = env.step(state, action.constrained)\n",
    "\n",
    "        return (next_key, next_state), Transition(\n",
    "            observation=state.obs,\n",
    "            action=action,\n",
    "            reward=next_state.reward,\n",
    "            next_observation=next_state.obs,\n",
    "            # extract requested additional fields (truncation)\n",
    "            extras={x: next_state.info[x] for x in extra_fields},\n",
    "        )\n",
    "\n",
    "    (_, final_state), data = filter_scan(\n",
    "        to_scan, (key, starting_state), (), length=unroll_length\n",
    "    )\n",
    "    return final_state, data"
   ]
  },
  {
   "cell_type": "markdown",
   "source": [
    "Mext two functions are the core of the PPO algorithm:\n",
    "* **compute_gae** that computes generalized advantage estimation, which allows to compute the policy gradient with low variance.\n",
    "* **compute_loss** that implements the clipped surrogate objective loss, combined with entropy loss (more entropy -> better) and value-function loss."
   ],
   "metadata": {
    "id": "Q0wEgrmysQMe"
   }
  },
  {
   "cell_type": "code",
   "execution_count": 6,
   "metadata": {
    "id": "vZK-JSgnqMnJ"
   },
   "outputs": [],
   "source": [
    "def compute_gae(\n",
    "    truncation, rewards, values, bootstrap_value, gae_lambda, time_discount\n",
    "):\n",
    "    \"\"\"\n",
    "    Computes Generalized Advantage Estimation (GAE).\n",
    "    https://arxiv.org/abs/1506.02438 (formula 16)\n",
    "    \"\"\"\n",
    "\n",
    "    def to_scan(gae_t_plus_one, inputs):\n",
    "        delta_t, truncation_t = inputs\n",
    "        gae_t = gae_t_plus_one * time_discount * gae_lambda + delta_t\n",
    "        gae_t = gae_t * (1 - truncation_t)\n",
    "        return gae_t, gae_t\n",
    "\n",
    "    next_values = jnp.concatenate([values[1:], bootstrap_value], axis=0)\n",
    "    deltas = rewards + time_discount * next_values - values\n",
    "    _, advantages = lax.scan(to_scan, 0.0, (deltas, truncation), reverse=True)\n",
    "    return advantages + values, advantages\n",
    "\n",
    "\n",
    "def compute_loss(key: jr.PRNGKey, data, agent, params):\n",
    "    \"\"\"\n",
    "    Computes standard PPO loss on a single trajectory, with clipped surrogate objective.\n",
    "    https://arxiv.org/abs/1707.06347 (link to the PPO paper)\n",
    "    \"\"\"\n",
    "    key_actions = jr.split(key, data.observation.shape[0])\n",
    "\n",
    "    # the second returned value is updated agent (stacked unroll_length times)\n",
    "    new_actions = eqx.filter_vmap(agent.get_action)(key_actions, data.observation)\n",
    "    baseline = eqx.filter_vmap(agent.get_value)(data.observation)\n",
    "\n",
    "    baseline = eqx.error_if(\n",
    "        baseline,\n",
    "        baseline.shape != (params.unroll_length, 1),\n",
    "        f\"Baseline Values should have shape {(params.unroll_length, 1)}, \"\n",
    "        + f\"but got {baseline.shape}\",\n",
    "    )\n",
    "\n",
    "    # (unroll_length, 1) -> (unroll_length,)\n",
    "    baseline = baseline.reshape((params.unroll_length,))\n",
    "    bootstrap_value = agent.get_value(data.next_observation[-1])\n",
    "\n",
    "    rewards = data.reward * params.reward_scaling\n",
    "    behaviour_actions = data.action\n",
    "\n",
    "    get_log_pdf_from_distr = lambda action, distr: distr.get_pdf(action)\n",
    "\n",
    "    # compute log of pdfs of the the old actions for new/old distributions\n",
    "    # we use \"raw\" actions, since they are directly sampled from the distributions\n",
    "    new_distr_log_pdf = eqx.filter_vmap(get_log_pdf_from_distr)(\n",
    "        behaviour_actions.raw, new_actions.distr\n",
    "    )\n",
    "    old_distr_log_pdf = eqx.filter_vmap(get_log_pdf_from_distr)(\n",
    "        behaviour_actions.raw, behaviour_actions.distr\n",
    "    )\n",
    "    # ratio of probabilities that the old (behavioural) action will be taken\n",
    "    rho = jnp.exp(new_distr_log_pdf - old_distr_log_pdf)\n",
    "\n",
    "    target_values, advantages = compute_gae(\n",
    "        truncation=data.extras[\"truncation\"],\n",
    "        rewards=rewards,\n",
    "        values=baseline,\n",
    "        bootstrap_value=bootstrap_value,\n",
    "        gae_lambda=params.gae_lambda,\n",
    "        time_discount=params.discounting,\n",
    "    )\n",
    "\n",
    "    # stop gradients for numerical stability, and since they are \"meaningless\"\n",
    "    # the point is that we train with respect to these parameters,\n",
    "    # and allowing them too to be trainable too leads to weird results\n",
    "    target_values = lax.stop_gradient(target_values)\n",
    "    advantages = lax.stop_gradient(advantages)\n",
    "\n",
    "    # compute clipped policy loss\n",
    "    surrogate_loss1 = rho * advantages\n",
    "    surrogate_loss2 = (\n",
    "        jnp.clip(rho, 1 - params.clipping_epsilon, 1 + params.clipping_epsilon)\n",
    "        * advantages\n",
    "    )\n",
    "    policy_loss = -jnp.mean(jnp.minimum(surrogate_loss1, surrogate_loss2))\n",
    "\n",
    "    # compute value loss\n",
    "    v_error = target_values - baseline\n",
    "    v_loss = jnp.mean(v_error * v_error) * params.value_loss_factor\n",
    "\n",
    "    # and finally, the entropy loss (we encourage higher entropy)\n",
    "    entropy = jnp.mean(new_actions.distr.entropy())\n",
    "    entropy_loss = params.entropy_cost * -entropy\n",
    "\n",
    "    # sum all the losses up\n",
    "    total_loss = policy_loss + v_loss + entropy_loss\n",
    "    return total_loss"
   ]
  },
  {
   "cell_type": "markdown",
   "metadata": {
    "id": "YNgDezLArFGy"
   },
   "source": [
    "The **sgd_step** does not do a single SGD step. It does a bunch of optimizer steps on the minibatches.\n",
    "\n",
    "Most importantly, there are tree things that this function does:\n",
    "\n",
    "1. The passed data is shuffled, and partitioned into minibatches.\n",
    "2. The mean loss over each of the minibatches is computed.\n",
    "3. Using reverse autodiff (**eqx.filter_value_and_grad**), the gradients are computed, and we update the agent.\n",
    "\n",
    "It is important to note that we collect some metrics (a dictionary with some info) throughout training, that are averaged for every SGD step."
   ]
  },
  {
   "cell_type": "code",
   "execution_count": 7,
   "metadata": {
    "id": "cJunuMFL2sfm"
   },
   "outputs": [],
   "source": [
    "def clip_by_norm(x, max_norm=1.0):\n",
    "    \"\"\"Clips the norm of the vector, with some whistles\"\"\"\n",
    "    max_norm = eqx.error_if(max_norm, max_norm < 0, \"Clip norm should be non-negative\")\n",
    "    norm = lax.cond(  # avoid division by zero\n",
    "        jnp.array_equal(x, jnp.zeros_like(x)),\n",
    "        lambda *_: jnp.float32(1.0),\n",
    "        lambda *_: jnp.linalg.norm(x),\n",
    "    )\n",
    "    return x * jnp.minimum(max_norm / norm, 1.0)\n",
    "\n",
    "\n",
    "def sgd_step(key: jr.PRNGKey, optimizer, agent, data, params):\n",
    "    key_perm, key_grad = jr.split(key)\n",
    "\n",
    "    def convert_data(x: jax.Array):\n",
    "        \"\"\"Shuffles input data, and partitions it into the minibatches\"\"\"\n",
    "        x = jr.permutation(key_perm, x)\n",
    "        x = jnp.reshape(x, (params.num_minibatches, -1) + x.shape[1:])\n",
    "        return x\n",
    "\n",
    "    shuffled_data = jtu.tree_map(convert_data, data)\n",
    "\n",
    "    def minibatch_step_to_scan(carry, data):\n",
    "        key, optimizer, agent = carry\n",
    "        key_next, key_loss = jr.split(key)\n",
    "\n",
    "        def batched_loss(agent, data):\n",
    "            loss_f = lambda data, agent: compute_loss(key_loss, data, agent, params)\n",
    "            loss_value = eqx.filter_vmap(loss_f, in_axes=(0, None))(data, agent)\n",
    "            return loss_value.mean()\n",
    "\n",
    "        # compute gradients\n",
    "        get_value_and_grad = eqx.filter_value_and_grad(\n",
    "            jtu.Partial(batched_loss, data=data)\n",
    "        )\n",
    "        loss, grads = get_value_and_grad(agent)\n",
    "\n",
    "        # clip gradients\n",
    "        grads = jtu.tree_map(\n",
    "            jtu.Partial(clip_by_norm, max_norm=params.max_gradient_norm),\n",
    "            grads.get_trainable(),\n",
    "        )\n",
    "\n",
    "        # apply updates\n",
    "        updates, new_optimizer = optimizer.update(grads)\n",
    "        new_agent = eqx.apply_updates(agent, updates)\n",
    "\n",
    "        return (key_next, new_optimizer, new_agent), None\n",
    "\n",
    "    # run optimizer on each of the minibatches\n",
    "    (_, new_optimizer, new_agent), _ = filter_scan(\n",
    "        minibatch_step_to_scan,\n",
    "        (key_grad, optimizer, agent),\n",
    "        shuffled_data,\n",
    "        length=params.num_minibatches,\n",
    "    )\n",
    "\n",
    "    return new_optimizer, new_agent"
   ]
  },
  {
   "cell_type": "markdown",
   "metadata": {
    "id": "wTzKcpE7nT-S"
   },
   "source": [
    "**training_step** is quite a long function, but what it does is quite simple.\n",
    "\n",
    "It consists of three meaningful parts:\n",
    "* Collection of **batch_size** number of trajectories of **unroll_length** length from the provided environment, with the current policy. The agent remains constant throughout the collection of the trajectory.\n",
    "* Split of the collected data into a convenient shape, which is (a lot, **unroll_length**), so that later we can vmap or map over the zero-th axis, and the mapped function will get just a single trajectory.\n",
    "* Update of the agent. We do an optimizer step on the computed PPO loss, and then we update the observation normalizing wrapper with just collected trajectories data. The running statistics is updated in a batch since it is easier, and it does not hurt performance much."
   ]
  },
  {
   "cell_type": "code",
   "execution_count": 8,
   "metadata": {
    "id": "9gBOauWYRThH"
   },
   "outputs": [],
   "source": [
    "def training_step(carry, _, params):\n",
    "    key, training_state = carry\n",
    "    key_sgd, key_generate_unroll, key_next = jr.split(key, 3)\n",
    "\n",
    "    agent = training_state.agent\n",
    "    env = training_state.env\n",
    "\n",
    "    # wrap the functions so that lax.scan can use them\n",
    "    def unroll_to_scan(carry, _):\n",
    "        key_unroll, state = carry\n",
    "        key_unroll, key_next = jr.split(key_unroll)\n",
    "\n",
    "        next_state, generated = generate_unroll(\n",
    "            key_unroll,\n",
    "            env.env,\n",
    "            state,\n",
    "            agent.get_action,\n",
    "            params.unroll_length,\n",
    "            extra_fields=(\"truncation\",)\n",
    "            # truncation is the signal that environment evaluation has finished\n",
    "            # in this case we 'reset' the advantage computation\n",
    "        )\n",
    "        return (key_next, next_state), generated\n",
    "\n",
    "    def sgd_step_to_scan(carry, _):\n",
    "        key_sgd, optimizer, agent = carry\n",
    "        key_sgd, key_next = jr.split(key_sgd)\n",
    "\n",
    "        new_opt, new_ag = sgd_step(key_sgd, optimizer, agent, data, params)\n",
    "        return (key_next, new_opt, new_ag), None\n",
    "\n",
    "    # generate unroll with the current policy\n",
    "    (_, new_env_state), data = filter_scan(\n",
    "        unroll_to_scan,\n",
    "        (key_generate_unroll, env.state),\n",
    "        (),\n",
    "        length=params.num_minibatches,\n",
    "    )\n",
    "\n",
    "    # transform all the data from the unroll into a more convenient shape\n",
    "    data = jtu.tree_map(lambda x: jnp.swapaxes(x, 1, 2), data)\n",
    "    data = jtu.tree_map(lambda x: jnp.reshape(x, (-1,) + x.shape[2:]), data)\n",
    "\n",
    "    # optimize the model, do a few optimizer steps\n",
    "    (_, new_optimizer, new_agent), _ = filter_scan(\n",
    "        sgd_step_to_scan,\n",
    "        (key_sgd, training_state.optimizer, agent),\n",
    "        (),\n",
    "        length=params.num_updates_per_batch,\n",
    "    )\n",
    "\n",
    "    new_agent = new_agent.update_running_stats(data.observation)\n",
    "\n",
    "    # the first training iteration used only to update observation normalizing wrapper\n",
    "    # otherwise the first step would be random\n",
    "    get_new = lambda *_: (new_optimizer, new_agent)\n",
    "    get_old = lambda *_: (training_state.optimizer, training_state.agent)\n",
    "    new_optimizer, new_agent = filter_cond(env.steps_done != 0, get_new, get_old)\n",
    "\n",
    "    env_steps_made = params.batch_size * params.num_minibatches * params.unroll_length\n",
    "\n",
    "    # construct new training state, with all the updated stuff\n",
    "    new_training_state = TrainingState(\n",
    "        optimizer=new_optimizer,\n",
    "        agent=new_agent,\n",
    "        env=Environment(env.env, new_env_state, env.steps_done + env_steps_made),\n",
    "    )\n",
    "    return (key_next, new_training_state), None"
   ]
  },
  {
   "cell_type": "markdown",
   "metadata": {
    "id": "M3g_GuWhqFbW"
   },
   "source": [
    "We can define a dataclass, that contains all the parameters of the training algorithm. This class allows to introduce new parameters easily, change (some) parameters without JAX triggering retracing of everything. Overall, it is much more convenient to pass one big PyTree to a function, then passing lots of different arguments."
   ]
  },
  {
   "cell_type": "code",
   "execution_count": 9,
   "metadata": {
    "id": "mNi-B8el_gAR"
   },
   "outputs": [],
   "source": [
    "class HyperParameters(eqx.Module):\n",
    "    \"\"\"All the parameters for the algorithm you will ever need.\"\"\"\n",
    "\n",
    "    env: envs.Env\n",
    "    episode_length: int\n",
    "\n",
    "    num_timesteps: int = 30_000_000\n",
    "    seed: int = 0\n",
    "    num_evals: int = 10\n",
    "\n",
    "    learning_rate: float = 1e-4\n",
    "    clipping_epsilon: float = 0.2\n",
    "    batch_size: int = 32\n",
    "    eval_batch_size: int = 16\n",
    "    entropy_cost: float = 0\n",
    "    discounting: float = 0.99\n",
    "    gae_lambda: float = 0.95\n",
    "    num_updates_per_batch: int = 2\n",
    "    num_minibatches: int = 16\n",
    "    unroll_length: int = 10\n",
    "    reward_scaling: float = 1.0\n",
    "    max_gradient_norm: float = 0.5\n",
    "    value_loss_factor: float = 0.25"
   ]
  },
  {
   "cell_type": "markdown",
   "metadata": {
    "id": "tvsjfBo4knPa"
   },
   "source": [
    "Define some other utility dataclasses.\n",
    "\n",
    "Besides, passing a single PyTree to the function is nicer than passing 10 millions variables, isn't it?"
   ]
  },
  {
   "cell_type": "code",
   "execution_count": 10,
   "metadata": {
    "id": "BWIacWU6kmmb"
   },
   "outputs": [],
   "source": [
    "class Optimizer(eqx.Module):\n",
    "    \"\"\"An optax optimizer wrapped with its state together.\"\"\"\n",
    "\n",
    "    optimizer: optax.GradientTransformation = eqx.field(static=True)\n",
    "    state: optax.OptState\n",
    "\n",
    "    def update(self, grads):\n",
    "        out_updates, new_state = self.optimizer.update(grads, self.state)\n",
    "        return out_updates, Optimizer(self.optimizer, new_state)\n",
    "\n",
    "\n",
    "class Environment(eqx.Module):\n",
    "    \"\"\"A Brax environment, wrapped with its state and step counter together.\"\"\"\n",
    "\n",
    "    env: envs.base.Env = eqx.field(static=True)\n",
    "    state: envs.base.State\n",
    "    steps_done: jax.Array = eqx.field(default=0, converter=jnp.asarray)\n",
    "\n",
    "\n",
    "class TrainingState(eqx.Module):\n",
    "    optimizer: Optimizer\n",
    "    agent: Agent\n",
    "    env: Environment"
   ]
  },
  {
   "cell_type": "markdown",
   "source": [
    "Running evaluation is the same as making a really long unroll, and then extracting some brax-produced information values."
   ],
   "metadata": {
    "id": "liynhXopyvPk"
   }
  },
  {
   "cell_type": "code",
   "source": [
    "@eqx.filter_jit\n",
    "def run_evaluation(key, agent, env, params):\n",
    "    reset_keys = jr.split(key, params.eval_batch_size)\n",
    "    eval_first_state = env.reset(reset_keys)\n",
    "    end_state = generate_unroll(\n",
    "        key,\n",
    "        env,\n",
    "        eval_first_state,\n",
    "        agent.get_action,\n",
    "        unroll_length=params.episode_length,\n",
    "    )[0]\n",
    "    eval_metrics = end_state.info[\"eval_metrics\"]\n",
    "\n",
    "    return {\"eval_reward\": eval_metrics.episode_metrics[\"reward\"].mean()}"
   ],
   "metadata": {
    "id": "RlAXkMynodNp"
   },
   "execution_count": 11,
   "outputs": []
  },
  {
   "cell_type": "markdown",
   "metadata": {
    "id": "qTXzeqZJk97i"
   },
   "source": [
    "The main **train** function is quite simple, just initialize some brax-wrapped environments, some variables, some states, and then run **training_epoch** a few times.\n",
    "\n",
    "**train** is not JIT-traced, so that user-defined **progress** can do anything: printing something, logging to wandb, plotting graphs, etc."
   ]
  },
  {
   "cell_type": "code",
   "execution_count": 12,
   "metadata": {
    "id": "xs87w2hQKDAn"
   },
   "outputs": [],
   "source": [
    "def train(agent, params, progress=lambda *_: None):\n",
    "    key = jr.PRNGKey(params.seed)\n",
    "    key_local, key_env, key_first_eval = jr.split(key, 3)\n",
    "\n",
    "    # jitted scan over training steps\n",
    "    @eqx.filter_jit\n",
    "    def training_epoch(key: jr.PRNGKey, training_state, num_training_steps, params):\n",
    "        (_, new_training_state), _ = filter_scan(\n",
    "            jtu.Partial(training_step, params=params),\n",
    "            (key, training_state),\n",
    "            (),\n",
    "            length=num_training_steps,\n",
    "        )\n",
    "        return new_training_state\n",
    "\n",
    "    # brax environments wrap\n",
    "    training_env = envs.training.wrap(params.env, episode_length=params.episode_length)\n",
    "    reset_fn = jax.jit(training_env.reset)\n",
    "\n",
    "    optimizer = optax.adam(learning_rate=params.learning_rate)\n",
    "    key_envs = jr.split(key_env, params.batch_size)\n",
    "\n",
    "    training_state = TrainingState(\n",
    "        optimizer=Optimizer(optimizer, optimizer.init(agent.get_trainable())),\n",
    "        agent=agent,\n",
    "        env=Environment(training_env, reset_fn(key_envs), steps_done=0),\n",
    "    )\n",
    "\n",
    "    eval_env = envs.training.EvalWrapper(training_env)\n",
    "\n",
    "    # run very first eval before any training\n",
    "    if params.num_evals > 1:\n",
    "        metrics = run_evaluation(key_first_eval, training_state.agent, eval_env, params)\n",
    "        progress(0, metrics)\n",
    "\n",
    "    # compute several parameters for the training loop\n",
    "    num_of_epochs = max(params.num_evals - 1, 1)\n",
    "    env_step_per_training_step = (\n",
    "        params.batch_size * params.unroll_length * params.num_minibatches\n",
    "    )\n",
    "    num_training_steps_per_epoch = 1 + params.num_timesteps // (\n",
    "        num_of_epochs * env_step_per_training_step\n",
    "    )\n",
    "\n",
    "    for it in range(num_of_epochs):\n",
    "        # update the keys\n",
    "        key_epoch, key_local, key_eval = jr.split(key_local, 3)\n",
    "\n",
    "        # train\n",
    "        training_state = training_epoch(\n",
    "            key_epoch, training_state, num_training_steps_per_epoch, params\n",
    "        )\n",
    "\n",
    "        # reset the environment state\n",
    "        key_envs = jr.split(key_local, params.batch_size)\n",
    "        training_state = eqx.tree_at(\n",
    "            where=lambda t: t.env.state,\n",
    "            pytree=training_state,\n",
    "            replace=reset_fn(key_envs),\n",
    "        )\n",
    "\n",
    "        # update metrics\n",
    "        metrics = run_evaluation(key_eval, training_state.agent, eval_env, params)\n",
    "        progress(training_state.env.steps_done, metrics)\n",
    "\n",
    "    return training_state.agent"
   ]
  },
  {
   "cell_type": "markdown",
   "metadata": {
    "id": "OiJVXNk4l6bv"
   },
   "source": [
    "Now, just initialize the environment, agent, and run the train function!"
   ]
  },
  {
   "cell_type": "code",
   "execution_count": 13,
   "metadata": {
    "colab": {
     "base_uri": "https://localhost:8080/",
     "height": 472
    },
    "id": "76O4DFbHNDL1",
    "outputId": "e68ad8b9-efc9-4e90-e4cf-b15898b7148c"
   },
   "outputs": [
    {
     "output_type": "display_data",
     "data": {
      "text/plain": [
       "<Figure size 640x480 with 1 Axes>"
      ],
      "image/png": "[encoded data removed]"
     },
     "metadata": {}
    },
    {
     "output_type": "stream",
     "name": "stdout",
     "text": [
      "Training (and tracing) done in 202.31 seconds\n"
     ]
    }
   ],
   "source": [
    "import matplotlib.pyplot as plt\n",
    "from IPython.display import clear_output\n",
    "import time\n",
    "\n",
    "xdata, ydata = [], []\n",
    "\n",
    "\n",
    "def progress(step_num, metrics):\n",
    "    xdata.append(step_num)\n",
    "    ydata.append(metrics[\"eval_reward\"])\n",
    "    clear_output(wait=True)\n",
    "\n",
    "    plt.xlim([0, 40_000_000])\n",
    "    plt.ylim([0, 4000])\n",
    "    plt.xlabel(\"# environment steps\")\n",
    "    plt.ylabel(\"reward per episode\")\n",
    "\n",
    "    plt.plot(xdata, ydata, \"b\")\n",
    "    plt.show()\n",
    "\n",
    "\n",
    "t0 = time.time()\n",
    "\n",
    "env = envs.create(env_name=\"ant\", backend=\"spring\")\n",
    "agent = Agent(jr.PRNGKey(42), env.observation_size, env.action_size)\n",
    "\n",
    "agent = train(\n",
    "    agent,\n",
    "    params=HyperParameters(\n",
    "        env=env,\n",
    "        num_timesteps=40_000_000,\n",
    "        num_evals=10,\n",
    "        reward_scaling=0.1,\n",
    "        episode_length=1000,\n",
    "        unroll_length=5,\n",
    "        num_minibatches=32,\n",
    "        num_updates_per_batch=4,\n",
    "        discounting=0.99,\n",
    "        learning_rate=3e-4,\n",
    "        entropy_cost=1e-3,\n",
    "        batch_size=1024,\n",
    "        eval_batch_size=256,\n",
    "        gae_lambda=0.97,\n",
    "        max_gradient_norm=1.0,\n",
    "        clipping_epsilon=0.3,\n",
    "    ),\n",
    "    progress=progress,\n",
    ")\n",
    "\n",
    "print(f\"Training (and tracing) done in {time.time() - t0:.2f} seconds\")"
   ]
  },
  {
   "cell_type": "markdown",
   "metadata": {
    "id": "tlOJOfedbsi9"
   },
   "source": [
    "As the final touch, let's make sure that our algorithm performs on par with some arbitrary, near SOTA, implementation. We are going to compare with the default Brax PPO implementation."
   ]
  },
  {
   "cell_type": "code",
   "execution_count": 14,
   "metadata": {
    "colab": {
     "base_uri": "https://localhost:8080/",
     "height": 472
    },
    "id": "OgJPanT6WeUy",
    "outputId": "e6966373-8e2a-4469-8a4f-d413d6d2a96b"
   },
   "outputs": [
    {
     "output_type": "display_data",
     "data": {
      "text/plain": [
       "<Figure size 640x480 with 1 Axes>"
      ],
      "image/png": "[encoded data removed]"
     },
     "metadata": {}
    },
    {
     "output_type": "stream",
     "name": "stdout",
     "text": [
      "Brax PPO training (and tracing) done in 287.51 seconds\n"
     ]
    }
   ],
   "source": [
    "from brax.training.agents.ppo import train as ppo\n",
    "\n",
    "xdata_brax, ydata_brax = [], []\n",
    "\n",
    "\n",
    "def progress_brax(step_num, metrics):\n",
    "    xdata_brax.append(step_num)\n",
    "    ydata_brax.append(metrics[\"eval/episode_reward\"])\n",
    "    clear_output(wait=True)\n",
    "\n",
    "    plt.xlim([0, 40_000_000])\n",
    "    plt.ylim([0, 4000])\n",
    "    plt.xlabel(\"# environment steps\")\n",
    "    plt.ylabel(\"reward per episode\")\n",
    "\n",
    "    plt.plot(xdata, ydata, \"b\", label=\"Our PPO\")\n",
    "    plt.plot(xdata_brax, ydata_brax, \"r\", label=\"Brax PPO\")\n",
    "    plt.legend(loc=\"upper left\")\n",
    "    plt.show()\n",
    "\n",
    "\n",
    "t0 = time.time()\n",
    "\n",
    "_ = ppo.train(\n",
    "    environment=envs.create(env_name=\"ant\", backend=\"spring\"),\n",
    "    num_timesteps=40_000_000,\n",
    "    num_evals=10,\n",
    "    reward_scaling=0.1,\n",
    "    episode_length=1000,\n",
    "    unroll_length=5,\n",
    "    num_minibatches=32,\n",
    "    num_updates_per_batch=4,\n",
    "    discounting=0.99,\n",
    "    learning_rate=3e-4,\n",
    "    entropy_cost=1e-3,\n",
    "    batch_size=1024,\n",
    "    gae_lambda=0.97,\n",
    "    clipping_epsilon=0.3,\n",
    "    num_envs=1024,\n",
    "    deterministic_eval=True,\n",
    "    progress_fn=progress_brax,\n",
    ")\n",
    "\n",
    "print(f\"Brax PPO training (and tracing) done in {time.time() - t0:.2f} seconds\")"
   ]
  },
  {
   "cell_type": "code",
   "source": [],
   "metadata": {
    "id": "TfzNgH5pCE1O"
   },
   "execution_count": 14,
   "outputs": []
  }
 ],
 "metadata": {
  "accelerator": "GPU",
  "colab": {
   "provenance": []
  },
  "kernelspec": {
   "display_name": "Python 3",
   "name": "python3"
  },
  "language_info": {
   "name": "python"
  }
 },
 "nbformat": 4,
 "nbformat_minor": 0
}