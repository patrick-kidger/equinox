{
  "cells": [
    {
      "cell_type": "markdown",
      "source": [
        "# Proximal Policy Optimization with Brax\n",
        "\n",
        "Proximal Policy Optimization (PPO) is an on-policy, model-free Reinforcement Learning algorithm.\n",
        "\n",
        "As a simulator of choice we use [Brax](https://github.com/google/brax), since it is written in JAX and supports several continuous-control environments. Also, it is blazingly fast!\n",
        "\n",
        "For particular details about PPO implementation, you can read the original [PPO paper from arxiv](https://arxiv.org/abs/1707.06347) or [this awesome article](https://iclr-blog-track.github.io/2022/03/25/ppo-implementation-details)\n",
        "\n",
        "\n",
        "!!! cite \"Reference\"\n",
        "```bibtex\n",
        "@misc{schulman2017proximal,\n",
        "      title={Proximal Policy Optimization Algorithms},\n",
        "      author={John Schulman and Filip Wolski and Prafulla Dhariwal and Alec Radford and Oleg Klimov},\n",
        "      year={2017},\n",
        "      eprint={1707.06347},\n",
        "      archivePrefix={arXiv},\n",
        "      primaryClass={cs.LG}\n",
        "}\n",
        "```\n"
      ],
      "metadata": {
        "id": "qgXboN5aN9MX"
      }
    },
    {
      "cell_type": "markdown",
      "source": [
        "Include all the libraries we need. In fact, we have only three dependencies: JAX, Brax and Equinox."
      ],
      "metadata": {
        "id": "AUKGhZ1WB_K-"
      }
    },
    {
      "cell_type": "code",
      "execution_count": 1,
      "metadata": {
        "id": "sFx5yceozxFi"
      },
      "outputs": [],
      "source": [
        "# JAX, Autograd and XLA\n",
        "# GitHub: https://github.com/google/jax\n",
        "import jax\n",
        "from jax import lax\n",
        "from jax import random as jr\n",
        "from jax import numpy as jnp\n",
        "from jax import tree_util as jtu\n",
        "\n",
        "# Optax, optimizers for machine learning in JAX\n",
        "# GitHub: https://github.com/google-deepmind/optax\n",
        "import optax\n",
        "\n",
        "# Equinox, awesome library for (awesome) neural networks in JAX\n",
        "# GitHub: https://github.com/patrick-kidger/equinox; Arxiv: https://arxiv.org/abs/2111.00254\n",
        "import equinox as eqx\n",
        "\n",
        "# Brax, vectorized continuous RL environments, in JAX\n",
        "# GitHub: https://github.com/google/brax; Arxiv: https://arxiv.org/abs/2106.13281\n",
        "import brax\n",
        "from brax import envs\n",
        "\n",
        "from collections.abc import Callable"
      ]
    },
    {
      "cell_type": "markdown",
      "metadata": {
        "id": "jTSLKsU-yyja"
      },
      "source": [
        "A few utility functions that are similar to other Equinox filtered wrappers.\n",
        "\n",
        "In the implementation we are constantly using lax.scan, and hence wrapping it, so that it can consume partially-static PyTrees seems nice."
      ]
    },
    {
      "cell_type": "code",
      "execution_count": 2,
      "metadata": {
        "id": "Ca2ekgyQD99U"
      },
      "outputs": [],
      "source": [
        "# A few of utility functions, that allow to have eqx.Module in places where they are not allowed usually\n",
        "@eqx.filter_jit\n",
        "def filter_scan(f: Callable, init, xs, *args, **kwargs):\n",
        "  \"\"\" Same as lax.scan, but allows to have eqx.Module in carry \"\"\"\n",
        "  init_dynamic_carry, static_carry = eqx.partition(init, eqx.is_array)\n",
        "\n",
        "  def to_scan(dynamic_carry, x):\n",
        "    carry = eqx.combine(dynamic_carry, static_carry)\n",
        "    new_carry, out = f(carry, x)\n",
        "    dynamic_new_carry, _ = eqx.partition(new_carry, eqx.is_array)\n",
        "    return dynamic_new_carry, out\n",
        "\n",
        "  out_carry, out_ys = lax.scan(to_scan, init_dynamic_carry, xs, *args, **kwargs)\n",
        "  return eqx.combine(out_carry, static_carry), out_ys\n",
        "\n",
        "@eqx.filter_jit\n",
        "def filter_cond(pred, true_f: Callable, false_f: Callable, *args):\n",
        "  \"\"\" Same as lax.cond, but allows to return eqx.Module \"\"\"\n",
        "  dynamic_true, static_true = eqx.partition(true_f(*args), eqx.is_array)\n",
        "  dynamic_false, static_false = eqx.partition(false_f(*args), eqx.is_array)\n",
        "\n",
        "  static_part = eqx.error_if(\n",
        "      static_true, static_true != static_false,\n",
        "      \"Filtered conditional arguments should have the same static part\")\n",
        "  return eqx.combine(lax.cond(pred, lambda *_: dynamic_true, lambda *_: dynamic_false), static_part)"
      ]
    },
    {
      "cell_type": "markdown",
      "metadata": {
        "id": "25TkGpz3zioH"
      },
      "source": [
        "A few useful dataclasses ..."
      ]
    },
    {
      "cell_type": "code",
      "execution_count": 3,
      "metadata": {
        "id": "KyUpyYNVuYQZ"
      },
      "outputs": [],
      "source": [
        "class LogNormalDistribution(eqx.Module):\n",
        "  \"\"\" Multivariate Log Normal distribution with diagonal covariance \"\"\"\n",
        "  mean: jax.Array\n",
        "  log_std: jax.Array\n",
        "\n",
        "  def get_pdf(self, value):\n",
        "    value = eqx.error_if(value, value.shape != self.mean.shape,\n",
        "                          \"Wrong shapes for the mean/value of action distr\")\n",
        "    value = eqx.error_if(value, value.shape != self.log_std.shape,\n",
        "                          \"Wrong shapes for the std/value of action distr\")\n",
        "    return jax.scipy.stats.norm.logpdf((value - self.mean) / jnp.exp(self.log_std)).sum()\n",
        "\n",
        "  def sample(self, key: jr.PRNGKey):\n",
        "    return jr.normal(key, self.mean.shape) * jnp.exp(self.log_std) + self.mean\n",
        "\n",
        "  def entropy(self):\n",
        "    return self.log_std.sum() * 0.5 + self.mean.shape[-1] * jnp.log(2 * jnp.pi * jnp.e) * 0.5\n",
        "\n",
        "class Action(eqx.Module):\n",
        "  \"\"\"\n",
        "  Action class represents a single action taken by an agent.\n",
        "  Additionally stores some useful data.\n",
        "\n",
        "  raw: action that was a direct output of an Actor-Critic model\n",
        "  transformed: action that was applied on the environment (aka, it was transformed by agent wrappers)\n",
        "  distr: distribution from which raw action was sampled, can be used to compute pdf of the action\n",
        "  \"\"\"\n",
        "  raw: jax.Array = None\n",
        "  transformed: jax.Array = None\n",
        "  distr: LogNormalDistribution = None\n",
        "\n",
        "  def postprocess(self, apply: Callable):\n",
        "    return Action(raw=self.raw, transformed=apply(self.transformed), distr=self.distr)\n",
        "\n",
        "class ValueRange(eqx.Module):\n",
        "  low: jax.Array\n",
        "  high: jax.Array"
      ]
    },
    {
      "cell_type": "markdown",
      "metadata": {
        "id": "7IHRqFzZZp01"
      },
      "source": [
        "Let's make all the neural network classes. The approach is standard for Actor-Critic methods:\n",
        "* **Critic**, that estimates the TD residual (sum of discounted rewards for all the future), given the state (observation).\n",
        "* **Actor**, that outputs policy action given the state. In our implementation, **Actor** consists of the **MeanNetwork** that outputs mean of the action distribution given the current state, and the **log_std** parameter, that is trained, but does not depend on the state. This is an implementation detail: frequently, **log_std** is also predicted by a neural network, and depends on the state, but we decided to keep it a simple trainable parameter. The output of the **Actor** is an **Action** that contains the output distribution and the sampled action.\n",
        "* **ActorCritic** is just an abstraction, that allows to address both **Actor** and **Critic** via a single interface.\n",
        "\n",
        "\n",
        "Sizes of layers for all the MLPs (neural networks) are chosen arbitrarily; Feel free to change them and look at the effect on the performance :)"
      ]
    },
    {
      "cell_type": "code",
      "execution_count": 4,
      "metadata": {
        "id": "7EvryteDt91d"
      },
      "outputs": [],
      "source": [
        "class Critic(eqx.Module):\n",
        "  \"\"\" MLP, that outputs the TD residual for the given state. \"\"\"\n",
        "  structure: list\n",
        "\n",
        "  def __init__(self, key: jr.PRNGKey, observation_size: int):\n",
        "    output_size = 1 # output is the value, TD residual, always a single output\n",
        "\n",
        "    key1, key2, key3, key4 = jr.split(key, 4)\n",
        "    self.structure = [\n",
        "      eqx.nn.Linear(observation_size, 64, key=key1),\n",
        "      jax.nn.tanh,\n",
        "      eqx.nn.Linear(64, 64, key=key2),\n",
        "      jax.nn.tanh,\n",
        "      eqx.nn.Linear(64, 64, key=key3),\n",
        "      jax.nn.tanh,\n",
        "      eqx.nn.Linear(64, output_size, key=key4)\n",
        "    ]\n",
        "\n",
        "  def __call__(self, x):\n",
        "    for operator in self.structure:\n",
        "        x = operator(x)\n",
        "    return x\n",
        "\n",
        "class MeanNetwork(eqx.Module):\n",
        "  \"\"\" MLP, that outputs a mean for the Action distribution, given state. \"\"\"\n",
        "  structure: list\n",
        "\n",
        "  def __init__(self, key: jr.PRNGKey, observation_size: int, action_size: int):\n",
        "    key1, key2, key3, key4 = jax.random.split(key, 4)\n",
        "    self.structure = [\n",
        "      eqx.nn.Linear(observation_size, 64, key=key1),\n",
        "      jax.nn.tanh,\n",
        "      eqx.nn.Linear(64, 64, key=key2),\n",
        "      jax.nn.tanh,\n",
        "      eqx.nn.Linear(64, 64, key=key3),\n",
        "      jax.nn.tanh,\n",
        "      eqx.nn.Linear(64, action_size, key=key4)\n",
        "    ]\n",
        "\n",
        "    # 2nd core implementation detail from https://iclr-blog-track.github.io/2022/03/25/ppo-implementation-details\n",
        "    # scaling down the weights of the output layer improves performance\n",
        "    self.structure = eqx.tree_at(where=lambda s: s[-1].weight,\n",
        "                                 pytree=self.structure,\n",
        "                                 replace_fn=lambda weight: weight * 0.01)\n",
        "\n",
        "  def __call__(self, x):\n",
        "    for operator in self.structure:\n",
        "        x = operator(x)\n",
        "    return x\n",
        "\n",
        "class Actor(eqx.Module):\n",
        "  \"\"\" A module, that outputs action distribution for a particular state. \"\"\"\n",
        "  mean_network: MeanNetwork\n",
        "  log_std: jax.Array # Trainable array\n",
        "\n",
        "  def __init__(self, key: jr.PRNGKey, observation_size: int, action_size: int, initial_std: float):\n",
        "    self.mean_network = MeanNetwork(key, observation_size, action_size)\n",
        "    self.log_std = jnp.ones((action_size,)) * jnp.log(initial_std)\n",
        "\n",
        "  def __call__(self, x):\n",
        "    return LogNormalDistribution(self.mean_network(x), self.log_std)\n",
        "\n",
        "class ActorCritic(eqx.Module):\n",
        "  \"\"\" An abstraction, that allows to use functionality of both Actor and Critic via the same entity. \"\"\"\n",
        "  obs_size: int\n",
        "  act_size: int\n",
        "  critic: Critic\n",
        "  actor: Actor\n",
        "\n",
        "  def __init__(self, key: jr.PRNGKey, observation_size: int, action_size: int, initial_actor_std: float = 0.5):\n",
        "    self.obs_size = observation_size\n",
        "    self.act_size = action_size\n",
        "\n",
        "    key1, key2 = jax.random.split(key, 2)\n",
        "    self.critic = Critic(key1, observation_size)\n",
        "    self.actor = Actor(key2, observation_size, action_size, initial_actor_std)\n",
        "\n",
        "  def get_value(self, observation):\n",
        "    return self.critic(observation)\n",
        "\n",
        "  def get_action(self, key: jr.PRNGKey, observation):\n",
        "    distr = self.actor(observation)\n",
        "    action = distr.sample(key)\n",
        "    return Action(raw=action, transformed=action, distr=distr)"
      ]
    },
    {
      "cell_type": "markdown",
      "metadata": {
        "id": "XLz0jK0Gc5kd"
      },
      "source": [
        "The next thing is wrappers for the Agent.\n",
        "\n",
        "One could think that all you need to train the model, one already has: indeed, you can train the **ActorCritic** by simply passing the observations from the environment, and then use the outputs as the actions.\n",
        "\n",
        "But, frequently, there are some problem-specific constraints on both observations/actions of the environment. Thus, it makes sense to preprocess the observations, before passing them to the **ActorCritic**, and postprocess the outputs, so that it is easier for underlying MLP to learn.\n",
        "\n",
        "* **BaseWrapper** is a parent class for any Wrapper. Any wrapper is some simple algorithm, that does pre- or postprocessing of the **ActorCritic** inputs and outputs.\n",
        "\n",
        "* **Agent** is a transparent wrapper, that allows to use **ActorCritic** as is, without any additional processing. It is needed so that there is the same interface for addressing the model with and without wrappers."
      ]
    },
    {
      "cell_type": "code",
      "execution_count": 5,
      "metadata": {
        "id": "-eiaCC5qv6Lo"
      },
      "outputs": [],
      "source": [
        "class BaseWrapper(eqx.Module):\n",
        "  \"\"\"\n",
        "  Parent class of any wrapper.\n",
        "\n",
        "  next: the wrapper (or anything else) that is considered the next one.\n",
        "  params: persistent properties (parameters) of this particular wrapper.\n",
        "  \"\"\"\n",
        "  next: eqx.Module = None\n",
        "  params: eqx.Module = None\n",
        "\n",
        "  def get_trainable(self):\n",
        "    # returns a PyTree with the same structure as self,\n",
        "    # but every leaf except children of Actor-Critic are replaced by None\n",
        "    return eqx.filter(self,\n",
        "                      filter_spec=lambda x: isinstance(x, ActorCritic),\n",
        "                      is_leaf=    lambda x: isinstance(x, ActorCritic))\n",
        "\n",
        "  def get_obs_size(self):\n",
        "    return self.next.get_obs_size()\n",
        "\n",
        "  def get_act_size(self):\n",
        "    return self.next.get_act_size()\n",
        "\n",
        "  def set_next(self, new_next):\n",
        "    return eqx.tree_at(lambda wrapper: wrapper.next, self, new_next)\n",
        "\n",
        "  def get_action(self, key: jr.PRNGKey, observation):\n",
        "    out, new_next = self.next.get_action(key, observation)\n",
        "    return out, self.set_next(new_next)\n",
        "\n",
        "  def get_value(self, observation):\n",
        "    out, new_next = self.next.get_value(observation)\n",
        "    return out, self.set_next(new_next)\n",
        "\n",
        "  def config(self, **kwargs):\n",
        "    return self.set_next(self.next.config(**kwargs))\n",
        "\n",
        "class Agent(BaseWrapper):\n",
        "  \"\"\"\n",
        "  Transparent, unmutable wrapper.\n",
        "  Used so that even without any wrappers the model (Actor-Critic) can be adressed like a wrapper\n",
        "  \"\"\"\n",
        "  def __init__(self, *args, **kwargs):\n",
        "    self.next = ActorCritic(*args, **kwargs)\n",
        "\n",
        "  def set_next(self, _):\n",
        "    # unmutable -> don't change the self.next\n",
        "    return self\n",
        "\n",
        "  def get_action(self, key: jr.PRNGKey, observation):\n",
        "    return self.next.get_action(key, observation), self\n",
        "\n",
        "  def get_value(self, observation):\n",
        "    return self.next.get_value(observation), self\n",
        "\n",
        "  def config(self, **kwargs):\n",
        "    return self\n",
        "\n",
        "  def get_obs_size(self):\n",
        "    return self.next.obs_size\n",
        "\n",
        "  def get_act_size(self):\n",
        "    return self.next.act_size"
      ]
    },
    {
      "cell_type": "markdown",
      "metadata": {
        "id": "tHTxpOAzg-pO"
      },
      "source": [
        "Frequently the distribution of observations is quite \"dispersed\": it can have large values, be centered not around zero, and so on. While the MLP should still be able to learn it, it will take much more time to converge to the solution. Thus, it is common to normalize observations: collect running mean and std of all the observations observed so far, and then, before passing them to the model, normalize them, so that the distribution of the input to the network (hopefully) follows standard Gaussian distribution. This is done by **ObservationNormalizingWrapper**.\n",
        "\n",
        "This allows the underlying model outputs to be invariant to the shifting/scaling of the observation distribution, which is quite a nice property."
      ]
    },
    {
      "cell_type": "code",
      "execution_count": 6,
      "metadata": {
        "id": "mn_NOyjBv2ni"
      },
      "outputs": [],
      "source": [
        "class RunningStats(eqx.Module):\n",
        "  \"\"\" Stores/updates the parameters of the distribution, samples from which are provided. \"\"\"\n",
        "  mean: jax.Array\n",
        "  M2: jax.Array # sum of second moments of the samples (sum of variances)\n",
        "  n: jax.Array\n",
        "  size: int\n",
        "\n",
        "  # we are initializing n with two so that we don't get division by zero, ever\n",
        "  # this biases the running statistics, but not really that much\n",
        "  def __init__(self, size, mean=None, M2=None, n=jnp.int32(2)):\n",
        "    self.size = size\n",
        "    self.mean = (jnp.zeros(size)) if mean is None else mean\n",
        "    self.M2 = (jnp.zeros(size) + 1e-6) if M2 is None else M2\n",
        "    self.n = n\n",
        "\n",
        "  def process(self, obs):\n",
        "    std = jnp.sqrt(self.M2 / self.n)\n",
        "    std = eqx.error_if(\n",
        "        std, std.shape != obs.shape,\n",
        "        f\"Standard deviation should have the same shape as the observation, \" +\n",
        "        f\"std shape is {std.shape} but observation shape is {obs.shape}\")\n",
        "\n",
        "    # clip std, so that we don't get extreme values\n",
        "    std = jnp.clip(std, 1e-6, 1e6)\n",
        "\n",
        "    # clip the extreme outliers -> more stability during training.\n",
        "    # by Chebyshev inequality, ~99% of values are not clipped.\n",
        "    processed = jnp.clip((obs - self.mean) / std, -10, 10)\n",
        "\n",
        "    return lax.stop_gradient(processed), self.update_single(obs)\n",
        "\n",
        "  def update_single(self, obs):\n",
        "    return self.update(obs[None, :])\n",
        "\n",
        "  def update(self, obs):\n",
        "    obs = eqx.error_if(\n",
        "        obs, len(obs.shape) != 2 or obs.shape[1] != self.size,\n",
        "        f\"Batched observation should have the shape of (_, {self.size}), but got {obs.shape}\")\n",
        "\n",
        "    n = self.n + obs.shape[0]\n",
        "\n",
        "    diff_to_old_mean = obs - self.mean\n",
        "    new_mean = self.mean + diff_to_old_mean.sum(axis=0) / n\n",
        "\n",
        "    diff_to_new_mean = obs - new_mean\n",
        "    var_upd = jnp.sum(diff_to_old_mean * diff_to_new_mean, axis=0)\n",
        "    M2 = self.M2 + var_upd\n",
        "\n",
        "    return RunningStats(self.size, mean=new_mean, M2=M2, n=n)\n",
        "\n",
        "class ObservationNormalizingWrapper(BaseWrapper):\n",
        "  \"\"\"\n",
        "  Wrapper, that normalizes the observations.\n",
        "  This type of wrapper is the reason why we need to additionally return agent after every actor/critic evaluation:\n",
        "    So that the observations that are passed to Actor-Critic, can be used to update this wrapper.\n",
        "\n",
        "  In practice though, we don't ever use this functionality, but there are many cases when it is useful.\n",
        "  All the updates that we do in the code, use explicit updates with call to 'config'.\n",
        "  \"\"\"\n",
        "  def __init__(self, next, params=None):\n",
        "    self.next = next\n",
        "    self.params = RunningStats(self.next.get_obs_size()) if params is None else params\n",
        "\n",
        "  def get_value(self, observation):\n",
        "    observation, updated_params = self.params.process(observation)\n",
        "    out, new_next = self.next.get_value(observation)\n",
        "    return out, ObservationNormalizingWrapper(new_next, updated_params)\n",
        "\n",
        "  def get_action(self, key: jr.PRNGKey, observation):\n",
        "    observation, updated_params = self.params.process(observation)\n",
        "    out, new_next = self.next.get_action(key, observation)\n",
        "    return out, ObservationNormalizingWrapper(new_next, updated_params)\n",
        "\n",
        "  def config(self, **kwargs):\n",
        "    params = self.params\n",
        "\n",
        "    if \"force_running_stats_update\" in kwargs:\n",
        "      params = self.params.update(kwargs.get(\"force_running_stats_update\"))\n",
        "\n",
        "    return ObservationNormalizingWrapper(self.next.config(**kwargs), params)"
      ]
    },
    {
      "cell_type": "markdown",
      "metadata": {
        "id": "r--AVKFcjCkV"
      },
      "source": [
        "When considering most of the environments, there are actions constraints that are present: if, for example, the action is the torque we apply, it cannot be very large, it is limited by physical properties of the system! But, since the values returned by **ActorCritic** has normal distribution, there is a non-zero probability of the sampled action to be larger than this \"physical\" limitation. To avoid this issue, we introduce action wrappers: both of them use a little bit different methods to constraint the output action norm.\n",
        "* **ActionTanhConstraintWrapper** is the most common action constraining method. It uses tanh as a \"smooth\" constraint, and then rescales it to the desired range. This method is nice, because there are non-zero gradients everywhere on the real domain, so the gradient descent have some idea in which direction is \"descent\".\n",
        "* **ActionExactConstraintWrapper** is the clipping action constraint. It simply clips the output action of the previous wrapper to the given range."
      ]
    },
    {
      "cell_type": "code",
      "execution_count": 7,
      "metadata": {
        "id": "dN2UM0U20IMU"
      },
      "outputs": [],
      "source": [
        "class ActionTanhConstraintWrapper(BaseWrapper):\n",
        "  \"\"\" 'Softly' constraints an action to the provided range. \"\"\"\n",
        "  def __init__(self, next, range_low = -1.0, range_high = 1.0):\n",
        "    self.next = next\n",
        "    self.params = ValueRange(range_low, range_high)\n",
        "\n",
        "  def get_action(self, key: jr.PRNGKey, observation: jax.Array):\n",
        "    action, new_next = self.next.get_action(key, observation)\n",
        "\n",
        "    scale = self.params.high - self.params.low\n",
        "    offset = self.params.low\n",
        "    action = action.postprocess(lambda x: (jnp.tanh(x) / 2.0 + 0.5) * scale + offset)\n",
        "\n",
        "    return action, self.set_next(new_next)\n",
        "\n",
        "class ActionExactConstraintWrapper(BaseWrapper):\n",
        "  \"\"\" 'Hard-ly' constraints an action to the provided range (clips value to the range). \"\"\"\n",
        "  def __init__(self, next, range_low, range_high):\n",
        "    self.next = next\n",
        "    self.params = ValueRange(range_low, range_high)\n",
        "\n",
        "  def get_action(self, key: jr.PRNGKey, observation):\n",
        "    action, new_next = self.next.get_action(key, observation)\n",
        "    action = action.postprocess(lambda x: jnp.clip(x, self.range_low, self.range_high))\n",
        "    return action, self.set_next(new_next)"
      ]
    },
    {
      "cell_type": "markdown",
      "metadata": {
        "id": "mpRwALv9tKaj"
      },
      "source": [
        "The next two functions are needed to collect trajectories from the environment, provided \"policy\": a function that given an observation, returns the **Action** PyTree.\n"
      ]
    },
    {
      "cell_type": "code",
      "execution_count": 8,
      "metadata": {
        "id": "w8HiREHa-2ZF"
      },
      "outputs": [],
      "source": [
        "def actor_step(key: jr.PRNGKey, env, env_state,\n",
        "               policy: Callable, extra_fields):\n",
        "  \"\"\"\n",
        "  Makes a single step with the provided policy in the environment.\n",
        "  Returns the next environment state, and a Transition object, that contains quite a bit of information.\n",
        "  \"\"\"\n",
        "  keys_policy = jr.split(key, env_state.obs.shape[0])\n",
        "  action, _ = eqx.filter_vmap(policy)(keys_policy, env_state.obs) # we ignore second return value, since it is updated agent\n",
        "  next_state = env.step(env_state, action.transformed) # action.transformed is the action after all post-processing\n",
        "\n",
        "  return next_state, Transition(\n",
        "      observation=env_state.obs,\n",
        "      action=action,\n",
        "      reward=next_state.reward,\n",
        "      next_observation=next_state.obs,\n",
        "      extras={x: next_state.info[x] for x in extra_fields} # extracts requested additional fields\n",
        "  )\n",
        "\n",
        "def generate_unroll(key: jr.PRNGKey, env, env_state, policy: Callable,\n",
        "                    unroll_length, extra_fields):\n",
        "  \"\"\" Collects trajectories of given unroll length. \"\"\"\n",
        "  def f(carry, _):\n",
        "    current_key, state = carry\n",
        "    current_key, next_key = jr.split(current_key)\n",
        "\n",
        "    next_state, transition = actor_step(\n",
        "        current_key, env, state,\n",
        "        policy, extra_fields=extra_fields\n",
        "    )\n",
        "    return (next_key, next_state), transition\n",
        "\n",
        "  (_, final_state), data = filter_scan(\n",
        "      f, (key, env_state), (), length=unroll_length)\n",
        "  return final_state, data"
      ]
    },
    {
      "cell_type": "markdown",
      "metadata": {
        "id": "He6gadXhuSQZ"
      },
      "source": [
        "The **Evaluator** evaluates a given agent on the environment, providing quite a bit of interesting information about the results."
      ]
    },
    {
      "cell_type": "code",
      "execution_count": 9,
      "metadata": {
        "id": "T-7APS0ltH8j"
      },
      "outputs": [],
      "source": [
        "import time\n",
        "\n",
        "class Evaluator:\n",
        "  \"\"\"\n",
        "  Class that is almost completely stolen from Brax.\n",
        "  It is not jittable, since run_evaluation needs time to tell how many steps per second we had.\n",
        "  https://github.com/google/brax/blob/45729a49d6e7fc7c4c1dea27c694eff02dc868e2/brax/training/acting.py#L81\n",
        "  \"\"\"\n",
        "  def __init__(self, eval_env, agent, num_eval_envs, episode_length):\n",
        "    self._eval_walltime = 0.\n",
        "    self.eval_env = envs.training.EvalWrapper(eval_env)\n",
        "    self.episode_length = episode_length\n",
        "    self.num_eval_envs = num_eval_envs\n",
        "    self._steps_per_unroll = episode_length * num_eval_envs\n",
        "\n",
        "  @eqx.filter_jit\n",
        "  def evaluate(self, key: jr.PRNGKey, agent):\n",
        "    reset_keys = jr.split(key, self.num_eval_envs)\n",
        "    eval_first_state = self.eval_env.reset(reset_keys)\n",
        "    return generate_unroll(\n",
        "        key,\n",
        "        self.eval_env,\n",
        "        eval_first_state,\n",
        "        agent.get_action,\n",
        "        unroll_length=self.episode_length,\n",
        "        extra_fields=('truncation',))[0]\n",
        "\n",
        "  def run_evaluation(self, key: jr.PRNGKey, agent, training_metrics,\n",
        "                     aggregate_episodes: bool = True):\n",
        "    t = time.time()\n",
        "    eval_state = self.evaluate(key, agent)\n",
        "    eval_metrics = eval_state.info['eval_metrics']\n",
        "    eval_metrics.active_episodes.block_until_ready()\n",
        "    epoch_eval_time = time.time() - t\n",
        "    metrics = {}\n",
        "    for fn in [jnp.mean, jnp.std]:\n",
        "      suffix = '_std' if fn == jnp.std else ''\n",
        "      metrics.update(\n",
        "          {\n",
        "              f'eval/episode_{name}{suffix}': (\n",
        "                  fn(value) if aggregate_episodes else value\n",
        "              )\n",
        "              for name, value in eval_metrics.episode_metrics.items()\n",
        "          }\n",
        "      )\n",
        "    metrics['eval/avg_episode_length'] = jnp.mean(eval_metrics.episode_steps)\n",
        "    metrics['eval/epoch_eval_time'] = epoch_eval_time\n",
        "    metrics['eval/sps'] = self._steps_per_unroll / epoch_eval_time\n",
        "    self._eval_walltime = self._eval_walltime + epoch_eval_time\n",
        "    metrics = {\n",
        "        'eval/walltime': self._eval_walltime,\n",
        "        **training_metrics,\n",
        "        **metrics\n",
        "    }\n",
        "\n",
        "    return metrics"
      ]
    },
    {
      "cell_type": "markdown",
      "metadata": {
        "id": "PQwtzmYhuwx7"
      },
      "source": [
        "The next functions are the core of the PPO algorithm: loss computation, and generalized advantage estimation.\n",
        "\n"
      ]
    },
    {
      "cell_type": "code",
      "execution_count": 10,
      "metadata": {
        "id": "vZK-JSgnqMnJ"
      },
      "outputs": [],
      "source": [
        "@eqx.filter_jit\n",
        "def compute_gae(truncation, rewards, values, bootstrap_value, gae_lambda, time_discount):\n",
        "  \"\"\"\n",
        "  Computes Generalized Advantage Estimation (GAE).\n",
        "  https://arxiv.org/abs/1506.02438 (formula 16)\n",
        "  \"\"\"\n",
        "  def to_scan(gae_t_plus_one, inputs):\n",
        "    delta_t, truncation_t = inputs\n",
        "    gae_t = (gae_t_plus_one * time_discount * gae_lambda + delta_t) * (1 - truncation_t)\n",
        "    return gae_t, gae_t\n",
        "\n",
        "  next_values = jnp.concatenate([values[1:], bootstrap_value], axis=0)\n",
        "  deltas = rewards + time_discount * next_values - values\n",
        "  _, advantages = lax.scan(to_scan, 0.0, (deltas, truncation), reverse=True)\n",
        "  return advantages + values, advantages\n",
        "\n",
        "@eqx.filter_jit\n",
        "def compute_loss(key: jr.PRNGKey, data, agent, params):\n",
        "  \"\"\"\n",
        "  Computes standard PPO loss on a single trajectory, with clipped surrogate objective.\n",
        "  https://arxiv.org/abs/1707.06347 (link to the PPO paper)\n",
        "  \"\"\"\n",
        "  key_actions = jr.split(key, data.observation.shape[0])\n",
        "\n",
        "  # the second returned value is updated agent (stacked unroll_length times), which we ignore for now\n",
        "  new_actions, _ = eqx.filter_vmap(agent.get_action)(key_actions, data.observation)\n",
        "  baseline, _ = eqx.filter_vmap(agent.get_value)(data.observation)\n",
        "\n",
        "  baseline = eqx.error_if(baseline, baseline.shape != (params.unroll_length, 1),\n",
        "                          f\"Baseline Values should have shape {(params.unroll_length, 1)}, but got {baseline.shape}\")\n",
        "\n",
        "  # force baseline (critic output, baseline values for the states) to be one-dimensional array\n",
        "  baseline = baseline.reshape((params.unroll_length,))\n",
        "  bootstrap_value, _ = agent.get_value(data.next_observation[-1])\n",
        "\n",
        "  rewards = data.reward * params.reward_scaling\n",
        "  behaviour_actions = data.action\n",
        "\n",
        "  get_log_pdf_from_distr = lambda action, distr: distr.get_pdf(action)\n",
        "\n",
        "  # compute logs of probability density functions of the the old actions for new/old distributions\n",
        "  # it is important to note that we use \"raw\" actions, since they are direct outputs of the networks\n",
        "  # since we care about \"difference\" in the actions, not really about values themselves,\n",
        "  #  so we completely ignore all the transformations that were applied by wrapping\n",
        "  new_distr_log_pdf = eqx.filter_vmap(get_log_pdf_from_distr)(behaviour_actions.raw,\n",
        "                                                              new_actions.distr)\n",
        "  old_distr_log_pdf = eqx.filter_vmap(get_log_pdf_from_distr)(behaviour_actions.raw,\n",
        "                                                              behaviour_actions.distr)\n",
        "  # ratio of probabilities that the old (the one that is in data, behavioural) action will be taken\n",
        "  # if the advantage > 0, the new distribution should have higher log pdf wrt the old action, and vice versa\n",
        "  rho = jnp.exp(new_distr_log_pdf - old_distr_log_pdf)\n",
        "\n",
        "  target_values, advantages = compute_gae(\n",
        "      truncation=data.extras['truncation'],\n",
        "      rewards=rewards,\n",
        "      values=baseline,\n",
        "      bootstrap_value=bootstrap_value,\n",
        "      gae_lambda=params.gae_lambda,\n",
        "      time_discount=params.discounting\n",
        "  )\n",
        "\n",
        "  # stop gradients for numerical stability, and since they are \"meaningless\"\n",
        "  # the point is that we train with respect to these parameters,\n",
        "  # and allowing them too to be trainable too leads to weird results\n",
        "  target_values = lax.stop_gradient(target_values)\n",
        "  advantages = lax.stop_gradient(advantages)\n",
        "\n",
        "  # compute clipped policy loss\n",
        "  surrogate_loss1 = rho * advantages\n",
        "  surrogate_loss2 = jnp.clip(rho, 1 - params.clipping_epsilon,\n",
        "                             1 + params.clipping_epsilon) * advantages\n",
        "  policy_loss = -jnp.mean(jnp.minimum(surrogate_loss1, surrogate_loss2))\n",
        "\n",
        "  # compute value loss\n",
        "  v_error = target_values - baseline\n",
        "  v_loss = jnp.mean(v_error * v_error) * params.value_loss_factor\n",
        "\n",
        "  # and finally, the entropy loss (we encourage higher entropy)\n",
        "  entropy = jnp.mean(new_actions.distr.entropy())\n",
        "  entropy_loss = params.entropy_cost * -entropy\n",
        "\n",
        "  # sum all the losses up\n",
        "  total_loss = policy_loss + v_loss + entropy_loss\n",
        "  return total_loss, {\n",
        "      'total_loss': total_loss,\n",
        "      'rho': rho,\n",
        "      'p_loss': policy_loss,\n",
        "      'v_loss': v_loss,\n",
        "      'entropy_loss': entropy_loss,\n",
        "  }"
      ]
    },
    {
      "cell_type": "markdown",
      "metadata": {
        "id": "YNgDezLArFGy"
      },
      "source": [
        "The **sgd_step** does not do a single SGD step. It does a bunch of optimizer steps on the minibatches.\n",
        "\n",
        "Most importantly, there are tree things that this function does:\n",
        "\n",
        "1. The passed data is shuffled, and partitioned into minibatches.\n",
        "2. The mean loss over each of the minibatches is computed.\n",
        "3. Using reverse autodiff (**eqx.filter_value_and_grad**), the gradients are computed, and we update the agent.\n",
        "\n",
        "It is important to note that we collect some metrics (a dictionary with some info) throughout training, that are averaged for every SGD step."
      ]
    },
    {
      "cell_type": "code",
      "execution_count": 11,
      "metadata": {
        "id": "cJunuMFL2sfm"
      },
      "outputs": [],
      "source": [
        "@eqx.filter_jit\n",
        "def clip_by_norm(x, max_norm=1.0):\n",
        "  \"\"\" Clips the norm of the vector, with some whistles \"\"\"\n",
        "  max_norm = eqx.error_if(max_norm, max_norm < 0, \"Clipping norm should be non-negative\")\n",
        "  norm = lax.cond(\n",
        "    jnp.array_equal(x, jnp.zeros_like(x)),\n",
        "    lambda *_: jnp.float32(1.0),\n",
        "    lambda *_: jnp.linalg.norm(x)\n",
        "  )\n",
        "  return x * jnp.minimum(max_norm / norm, 1.0)\n",
        "\n",
        "@eqx.filter_jit\n",
        "def sgd_step(key: jr.PRNGKey, optimizer, agent, data, params):\n",
        "  key_perm, key_grad = jr.split(key)\n",
        "\n",
        "  def convert_data(x: jax.Array):\n",
        "    \"\"\" Shuffles input data, and partitions in into the minibatches \"\"\"\n",
        "    x = jr.permutation(key_perm, x)\n",
        "    x = jnp.reshape(x, (params.num_minibatches, -1) + x.shape[1:])\n",
        "    return x\n",
        "  shuffled_data = jtu.tree_map(convert_data, data)\n",
        "\n",
        "  # check that the shape is correct\n",
        "  desired_shape = (params.num_minibatches, params.batch_size, params.unroll_length)\n",
        "  shuffled_data = eqx.error_if(\n",
        "      shuffled_data, shuffled_data.observation.shape[:-1] != desired_shape,\n",
        "      f\"Minibatch data shape is wrong, should be {desired_shape} but was {shuffled_data.observation.shape[:-1]}\")\n",
        "\n",
        "  def minibatch_step_to_scan(carry, data):\n",
        "    key, optimizer, agent = carry\n",
        "    key_next, key_loss = jr.split(key)\n",
        "\n",
        "    def batched_loss(agent, data):\n",
        "      loss_f = lambda data, agent: compute_loss(key_loss, data, agent, params)\n",
        "      loss_value, metrics = eqx.filter_vmap(loss_f, in_axes=(0, None))(data, agent)\n",
        "      # we waste less memory by computing mean for everything in metrics\n",
        "      return loss_value.mean(), jtu.tree_map(lambda x: x.mean(axis=0), metrics)\n",
        "\n",
        "    get_value_and_grad = eqx.filter_value_and_grad(jtu.Partial(batched_loss, data=data), has_aux=True)\n",
        "    (loss, metrics), grads = get_value_and_grad(agent)\n",
        "\n",
        "    # gradient clipping -> more stable training\n",
        "    def filter_and_clip_grads(grad, trainable):\n",
        "      # making sure that we update only trainable stuff\n",
        "      # since grads are also computed for all the wrappers params\n",
        "      # (even explicitly lax.stop_gradient does not help, since gradient is not None, but zero)\n",
        "      # which breaks optax\n",
        "      if grad is None or trainable is None:\n",
        "        return None\n",
        "      return clip_by_norm(grad, params.max_gradient_norm)\n",
        "    grads = jtu.tree_map(filter_and_clip_grads, grads, agent.get_trainable())\n",
        "\n",
        "    updates, new_optimizer = optimizer.update(grads)\n",
        "    new_agent = eqx.apply_updates(agent, updates)\n",
        "\n",
        "    return (key_next, new_optimizer, new_agent), metrics\n",
        "\n",
        "  (_, new_optimizer, new_agent), metrics = filter_scan(\n",
        "      minibatch_step_to_scan,\n",
        "      (key_grad, optimizer, agent),\n",
        "      shuffled_data,\n",
        "      length=params.num_minibatches)\n",
        "\n",
        "  return new_optimizer, new_agent, jtu.tree_map(lambda x: x.mean(axis=0), metrics)"
      ]
    },
    {
      "cell_type": "markdown",
      "metadata": {
        "id": "wTzKcpE7nT-S"
      },
      "source": [
        "**training_step** is quite a long function, but what it does is quite simple.\n",
        "\n",
        "It consists of three meaningful parts:\n",
        "* Collection of **batch_size** number of trajectories of **unroll_length** length from the provided environment, with the current policy. The agent remains constant throughout the collection of the trajectory.\n",
        "* Split of the collected data into a convenient shape, which is (a lot, **unroll_length**), so that later we can vmap or map over the zero-th axis, and the mapped function will get just a single trajectory.\n",
        "* Update of the agent. We do an optimizer step on the computed PPO loss, and then we update the observation normalizing wrapper with just collected trajectories data. The running statistics is updated in a batch since it is easier, and it does not hurt performance much."
      ]
    },
    {
      "cell_type": "code",
      "execution_count": 12,
      "metadata": {
        "id": "9gBOauWYRThH"
      },
      "outputs": [],
      "source": [
        "@eqx.filter_jit\n",
        "def training_step(carry, _, params):\n",
        "  key, training_state = carry\n",
        "  key_sgd, key_generate_unroll, key_next = jr.split(key, 3)\n",
        "\n",
        "  # wrap the functions, so that lax.scan can use them\n",
        "  def unroll_to_scan(carry, _):\n",
        "    key_unroll, state, policy = carry\n",
        "    key_unroll, next_key = jr.split(key_unroll)\n",
        "\n",
        "    next_state, generated = generate_unroll(\n",
        "        key_unroll, training_state.env.env, state, policy,\n",
        "        params.unroll_length, extra_fields=('truncation',)\n",
        "        # truncation is the signal that environment evaluation has finished\n",
        "        # in this case we 'reset' the advantage computation\n",
        "    )\n",
        "    return (next_key, next_state, policy), generated\n",
        "\n",
        "  def sgd_step_to_scan(carry, _):\n",
        "    key_sgd, optimizer, agent = carry\n",
        "    key_sgd, next_key = jr.split(key_sgd)\n",
        "\n",
        "    new_optimizer, new_agent, metrics = sgd_step(key_sgd, optimizer, agent, data, params)\n",
        "    return (next_key, new_optimizer, new_agent), metrics\n",
        "\n",
        "  # generate unroll with the current policy\n",
        "  (_, new_env_state, *_), data = filter_scan(\n",
        "      unroll_to_scan,\n",
        "      (key_generate_unroll, training_state.env.state, training_state.agent.get_action), (),\n",
        "      length=params.num_minibatches)\n",
        "\n",
        "  # transform all the data from the unroll into the correct shape of (-1, unroll_length)\n",
        "  data = jtu.tree_map(lambda x: jnp.swapaxes(x, 1, 2), data)\n",
        "  data = jtu.tree_map(lambda x: jnp.reshape(x, (-1,) + x.shape[2:]), data)\n",
        "\n",
        "  # check the correctness of the shape\n",
        "  data_target_shape = (params.batch_size * params.num_minibatches, params.unroll_length, params.env.observation_size)\n",
        "  data = eqx.error_if(\n",
        "      data, data.observation.shape != data_target_shape,\n",
        "      f\"Reshaped unroll data (observation) must have shape of \"\n",
        "      f\"{data_target_shape} but had {data.observation.shape}\")\n",
        "\n",
        "  # optimize the model, do a few optimizer steps\n",
        "  (_, new_optimizer, new_agent), metrics = filter_scan(\n",
        "      sgd_step_to_scan,\n",
        "      (key_sgd, training_state.optimizer, training_state.agent), (),\n",
        "      length=params.num_updates_per_batch)\n",
        "\n",
        "  # update the normalizing wrapper with collected observations\n",
        "  # we do it here, and not during unroll, so that we don't have to merge all the vmapped updated agents\n",
        "  new_agent = new_agent.config(\n",
        "      force_running_stats_update=data.observation.reshape(-1, data.observation.shape[-1])\n",
        "  )\n",
        "\n",
        "  # use the very first training iteration just to collect some observation for normalizing wrapper\n",
        "  # since, otherwise, the first step would be random, possibly screwing up the initialization\n",
        "  get_new = lambda *_: (new_optimizer, new_agent)\n",
        "  get_old = lambda *_: (training_state.optimizer, training_state.agent)\n",
        "  new_optimizer, new_agent = filter_cond(training_state.env.steps_done != 0, get_new, get_old)\n",
        "\n",
        "  env_steps_made = params.batch_size * params.num_minibatches * params.unroll_length\n",
        "\n",
        "  # construct new training state, with all the updated stuff\n",
        "  new_training_state = TrainingState(\n",
        "      optimizer=new_optimizer,\n",
        "      agent=new_agent,\n",
        "      env=Environment(\n",
        "          training_state.env.env,\n",
        "          new_env_state,\n",
        "          training_state.env.steps_done + env_steps_made\n",
        "      )\n",
        "  )\n",
        "  return (key_next, new_training_state), metrics"
      ]
    },
    {
      "cell_type": "markdown",
      "metadata": {
        "id": "6C2Z4QV1m8R8"
      },
      "source": [
        "**training_epoch** not only runs a bunch of **training_steps**, but it also figures out the number of **training_steps** to run judging by the required number of timesteps that we want to train for, and other parameters."
      ]
    },
    {
      "cell_type": "code",
      "execution_count": 13,
      "metadata": {
        "id": "tQTzozRx_JET"
      },
      "outputs": [],
      "source": [
        "@eqx.filter_jit\n",
        "def training_epoch(key: jr.PRNGKey, training_state, params):\n",
        "  env_step_per_training_step = params.batch_size * params.unroll_length * params.num_minibatches\n",
        "  num_evals_after_init = params.num_evals - 1 if params.num_evals > 1 else 1\n",
        "  num_training_steps_per_epoch = 1 + params.num_timesteps // (num_evals_after_init * env_step_per_training_step)\n",
        "\n",
        "  (_, training_state), metrics = filter_scan(\n",
        "      jtu.Partial(training_step, params=params), (key, training_state), (),\n",
        "      length=num_training_steps_per_epoch)\n",
        "\n",
        "  return training_state, metrics"
      ]
    },
    {
      "cell_type": "markdown",
      "metadata": {
        "id": "M3g_GuWhqFbW"
      },
      "source": [
        "We can define a dataclass, that contains all the parameters of the training algorithm. This class allows to introduce new parameters easily, change (some) parameters without JAX triggering retracing of everything, and overall it is much more convenient to pass them as an argument to a function."
      ]
    },
    {
      "cell_type": "code",
      "execution_count": 14,
      "metadata": {
        "id": "mNi-B8el_gAR"
      },
      "outputs": [],
      "source": [
        "class HyperParameters(eqx.Module):\n",
        "  \"\"\" All the parameters for the algorithm you will ever need. \"\"\"\n",
        "  # parameters that are forcefully static, and you are not allowed to change them,\n",
        "  # unless you really want to retrace most of the jitted functions\n",
        "  env: envs.Env = eqx.field(static=True)\n",
        "  episode_length: int = eqx.field(static=True)\n",
        "\n",
        "  num_timesteps: int =  eqx.field(default=30_000_000, static=True)\n",
        "  seed: int =           eqx.field(default=0,      static=True)\n",
        "  num_evals: int =      eqx.field(default=10,     static=True)\n",
        "\n",
        "  # parameters that are 'changeable' throughout training.\n",
        "  # Does not mean that you should change them :)\n",
        "  learning_rate: float = 1e-4\n",
        "  clipping_epsilon: float = 0.2\n",
        "  batch_size: int = 32\n",
        "  eval_batch_size: int = 16\n",
        "  entropy_cost: float = 0\n",
        "  discounting: float = 0.99\n",
        "  gae_lambda: float = 0.95\n",
        "  num_updates_per_batch: int = 2\n",
        "  num_minibatches: int = 16\n",
        "  unroll_length: int = 10\n",
        "  reward_scaling: float = 1.0\n",
        "  max_gradient_norm: float = 0.5\n",
        "  value_loss_factor: float = 0.25"
      ]
    },
    {
      "cell_type": "markdown",
      "metadata": {
        "id": "tvsjfBo4knPa"
      },
      "source": [
        "Define some other utility dataclasses.\n",
        "\n",
        "Besides, passing a single PyTree to the function is much nicer than passing 10 millions variables, isn't it?"
      ]
    },
    {
      "cell_type": "code",
      "execution_count": 15,
      "metadata": {
        "id": "BWIacWU6kmmb"
      },
      "outputs": [],
      "source": [
        "class Transition(eqx.Module):\n",
        "  \"\"\" Represents a transition between two adjacent environment states. \"\"\"\n",
        "  observation: jax.Array # observation on the current state\n",
        "  action: Action # action that was taken on the current state\n",
        "  reward: float # reward, that was given as the result of the action\n",
        "  next_observation: jax.Array # next observation\n",
        "  extras: dict # any simulator-extracted hints, like end of episode signal\n",
        "\n",
        "class Optimizer(eqx.Module):\n",
        "  \"\"\"An optax optimizer wrapped with its state together. \"\"\"\n",
        "  optimizer: optax.GradientTransformation = eqx.field(static=True)\n",
        "  state: optax.OptState\n",
        "\n",
        "  def update(self, grads):\n",
        "    out_updates, new_state = self.optimizer.update(grads, self.state)\n",
        "    return out_updates, Optimizer(self.optimizer, new_state)\n",
        "\n",
        "class Environment(eqx.Module):\n",
        "  \"\"\"A Brax environment, wrapped with its state and step counter together. \"\"\"\n",
        "  env: envs.base.Env = eqx.field(static=True)\n",
        "  state: envs.base.State\n",
        "  steps_done: jax.Array = eqx.field(default=0, converter=jnp.asarray)\n",
        "\n",
        "class TrainingState(eqx.Module):\n",
        "  \"\"\" A training state. Stores some useful information, that changes throughout training. \"\"\"\n",
        "  optimizer: Optimizer\n",
        "  agent: Agent\n",
        "  env: Environment"
      ]
    },
    {
      "cell_type": "markdown",
      "metadata": {
        "id": "qTXzeqZJk97i"
      },
      "source": [
        "The main **train** function is quite simple, just initialize some brax-wrapped environments, some variables, some states, and then just run **training_epoch** a few times.\n",
        "\n",
        "**train** is not JIT-traced, so that user-defined **progress** can do anything: printing something, logging to wandb, plotting graphs, etc."
      ]
    },
    {
      "cell_type": "code",
      "execution_count": 16,
      "metadata": {
        "id": "xs87w2hQKDAn"
      },
      "outputs": [],
      "source": [
        "def train(agent, params, progress = lambda *_: None):\n",
        "  key = jr.PRNGKey(params.seed)\n",
        "  key_local, key_env = jr.split(key, 2)\n",
        "\n",
        "  env = envs.training.wrap(\n",
        "      params.env,\n",
        "      episode_length=params.episode_length\n",
        "  )\n",
        "  reset_fn = jax.jit(env.reset)\n",
        "\n",
        "  # we are using Adam, since, well, everybody uses Adam\n",
        "  optimizer = optax.adam(learning_rate=params.learning_rate)\n",
        "  trainable_agent_arrays = eqx.filter(agent.get_trainable(), eqx.is_array)\n",
        "  key_envs = jr.split(key_env, params.batch_size)\n",
        "\n",
        "  training_state = TrainingState(\n",
        "      optimizer=Optimizer(\n",
        "          optimizer,\n",
        "          optimizer.init(trainable_agent_arrays)\n",
        "      ),\n",
        "      agent=agent,\n",
        "      env=Environment(\n",
        "          env,\n",
        "          reset_fn(key_envs),\n",
        "          steps_done=0\n",
        "      )\n",
        "  )\n",
        "\n",
        "  evaluator = Evaluator(\n",
        "      env,\n",
        "      agent,\n",
        "      num_eval_envs=params.eval_batch_size,\n",
        "      episode_length=params.episode_length\n",
        "  )\n",
        "\n",
        "  # run very first eval before any training\n",
        "  metrics = {}\n",
        "  if params.num_evals > 1:\n",
        "    metrics = evaluator.run_evaluation(key, training_state.agent, training_metrics={})\n",
        "    progress(0, metrics)\n",
        "\n",
        "  num_of_epochs = max(params.num_evals - 1, 1)\n",
        "  for it in range(num_of_epochs):\n",
        "    # update the keys\n",
        "    key_epoch, key_local, key_eval = jr.split(key_local, 3)\n",
        "\n",
        "    # train\n",
        "    training_state, training_metrics = training_epoch(key_epoch, training_state, params)\n",
        "\n",
        "    # reset the environment state\n",
        "    key_envs = jr.split(key_local, params.batch_size)\n",
        "    training_state = eqx.tree_at(lambda t: t.env.state, training_state, reset_fn(key_envs))\n",
        "\n",
        "    # update metrics\n",
        "    metrics = evaluator.run_evaluation(key_eval, training_state.agent, training_metrics)\n",
        "    progress(training_state.env.steps_done, metrics)\n",
        "\n",
        "  return (training_state.agent, metrics)"
      ]
    },
    {
      "cell_type": "markdown",
      "metadata": {
        "id": "OiJVXNk4l6bv"
      },
      "source": [
        "Now, just initialize the environment, agent, and run the train function!"
      ]
    },
    {
      "cell_type": "code",
      "execution_count": 17,
      "metadata": {
        "colab": {
          "base_uri": "https://localhost:8080/",
          "height": 472
        },
        "id": "76O4DFbHNDL1",
        "outputId": "91513662-fd76-45c3-d804-b0a8a9b000c8"
      },
      "outputs": [
        {
          "output_type": "display_data",
          "data": {
            "text/plain": [
              "<Figure size 640x480 with 1 Axes>"
            ],
            "image/png": "[encoded data removed]"
          },
          "metadata": {}
        },
        {
          "output_type": "stream",
          "name": "stdout",
          "text": [
            "Training (and tracing) done in 226.66 seconds\n"
          ]
        }
      ],
      "source": [
        "import os\n",
        "from datetime import datetime\n",
        "import matplotlib.pyplot as plt\n",
        "from IPython.display import clear_output\n",
        "\n",
        "xdata, ydata = [], []\n",
        "def progress(step_num, metrics):\n",
        "  xdata.append(step_num)\n",
        "  ydata.append(metrics['eval/episode_reward'])\n",
        "  clear_output(wait=True)\n",
        "\n",
        "  plt.xlim([0, 40_000_000])\n",
        "  plt.ylim([0, 4000])\n",
        "  plt.xlabel('# environment steps')\n",
        "  plt.ylabel('reward per episode')\n",
        "\n",
        "  plt.plot(xdata, ydata, 'b')\n",
        "  plt.show()\n",
        "\n",
        "t0 = time.time()\n",
        "\n",
        "env = envs.create(env_name='ant', backend='spring')\n",
        "\n",
        "agent = Agent(jr.PRNGKey(42), env.observation_size, env.action_size)\n",
        "agent = ObservationNormalizingWrapper(agent)\n",
        "agent = ActionTanhConstraintWrapper(agent, range_low=-1.0, range_high=1.0)\n",
        "\n",
        "agent, metrics = train(\n",
        "    agent,\n",
        "    params=HyperParameters(\n",
        "        env = env,\n",
        "        num_timesteps = 40_000_000, num_evals = 10, reward_scaling = .1,\n",
        "        episode_length = 1000, unroll_length = 5, num_minibatches = 32,\n",
        "        num_updates_per_batch = 4, discounting = 0.99, learning_rate = 3e-4,\n",
        "        entropy_cost = 1e-3, batch_size = 1024, eval_batch_size = 256,\n",
        "        gae_lambda = 0.97, max_gradient_norm = 1.0, clipping_epsilon = 0.3\n",
        "    ),\n",
        "    progress=progress\n",
        ")\n",
        "\n",
        "print(f\"Training (and tracing) done in {time.time() - t0:.2f} seconds\")"
      ]
    },
    {
      "cell_type": "markdown",
      "metadata": {
        "id": "tlOJOfedbsi9"
      },
      "source": [
        "As the final touch, let's make sure that our algorithm performs on par with some arbitrary, near SOTA, implementation. We are going to compare with the default Brax PPO implementation."
      ]
    },
    {
      "cell_type": "code",
      "execution_count": 18,
      "metadata": {
        "colab": {
          "base_uri": "https://localhost:8080/",
          "height": 472
        },
        "id": "OgJPanT6WeUy",
        "outputId": "e35eb673-05c5-4577-f847-1c23dc2acdb5"
      },
      "outputs": [
        {
          "output_type": "display_data",
          "data": {
            "text/plain": [
              "<Figure size 640x480 with 1 Axes>"
            ],
            "image/png": "[encoded data removed]"
          },
          "metadata": {}
        },
        {
          "output_type": "stream",
          "name": "stdout",
          "text": [
            "Brax PPO training (and tracing) done in 275.14 seconds\n"
          ]
        }
      ],
      "source": [
        "from brax.training.agents.ppo import train as ppo\n",
        "\n",
        "xdata_brax, ydata_brax = [], []\n",
        "def progress_brax(step_num, metrics):\n",
        "  xdata_brax.append(step_num)\n",
        "  ydata_brax.append(metrics['eval/episode_reward'])\n",
        "  clear_output(wait=True)\n",
        "\n",
        "  plt.xlim([0, 40_000_000])\n",
        "  plt.ylim([0, 4000])\n",
        "  plt.xlabel('# environment steps')\n",
        "  plt.ylabel('reward per episode')\n",
        "\n",
        "  plt.plot(xdata, ydata, 'b', label=\"Our PPO\")\n",
        "  plt.plot(xdata_brax, ydata_brax, 'r', label=\"Brax PPO\")\n",
        "  plt.legend(loc=\"upper left\")\n",
        "  plt.show()\n",
        "\n",
        "t0 = time.time()\n",
        "\n",
        "_ = ppo.train(\n",
        "    environment=envs.create(env_name='ant', backend='spring'),\n",
        "    num_timesteps = 40_000_000, num_evals = 10, reward_scaling = .1,\n",
        "    episode_length = 1000, unroll_length = 5, num_minibatches = 32,\n",
        "    num_updates_per_batch = 4, discounting = 0.99, learning_rate = 3e-4,\n",
        "    entropy_cost = 1e-3, batch_size = 1024, gae_lambda = 0.97, clipping_epsilon = 0.3,\n",
        "    num_envs = 1024, deterministic_eval = True, progress_fn = progress_brax\n",
        ")\n",
        "\n",
        "print(f\"Brax PPO training (and tracing) done in {time.time() - t0:.2f} seconds\")"
      ]
    },
    {
      "cell_type": "code",
      "execution_count": 18,
      "metadata": {
        "id": "hH5ac5WLp07O",
        "colab": {
          "base_uri": "https://localhost:8080/"
        },
        "outputId": "8b8ecb2e-d08c-40cf-bad7-39bfd89ac09c"
      },
      "outputs": [
        {
          "output_type": "stream",
          "name": "stderr",
          "text": [
            "/usr/local/lib/python3.10/dist-packages/ipykernel/ipkernel.py:283: DeprecationWarning: `should_run_async` will not call `transform_cell` automatically in the future. Please pass the result to `transformed_cell` argument and any exception that happen during thetransform in `preprocessing_exc_tuple` in IPython 7.17 and above.\n",
            "  and should_run_async(code)\n"
          ]
        }
      ],
      "source": []
    }
  ],
  "metadata": {
    "accelerator": "GPU",
    "colab": {
      "provenance": []
    },
    "kernelspec": {
      "display_name": "Python 3",
      "name": "python3"
    },
    "language_info": {
      "name": "python"
    }
  },
  "nbformat": 4,
  "nbformat_minor": 0
}