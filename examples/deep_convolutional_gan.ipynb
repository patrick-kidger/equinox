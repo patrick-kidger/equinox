{
 "cells": [
  {
   "cell_type": "markdown",
   "metadata": {},
   "source": [
    "# Deep Convolutional Generative Adversarial Network\n",
    "\n",
    "This example builds DCGAN in Equinox, which is a Generative Adversarial Network (GAN) using convolutional layers in the discriminator and generator.\n",
    "\n",
    "This example is an implementation based on the paper [Unsupervised Representation Learning with Deep Convolutional Generative Adversarial Networks](https://arxiv.org/abs/1511.06434).\n",
    "\n",
    "Authors: Alec Radford (alec@indico.io), Luke Metz (luke@indico.io), and Soumith Chintala (soumith@fb.com)"
   ]
  },
  {
   "cell_type": "code",
   "execution_count": 8,
   "metadata": {},
   "outputs": [],
   "source": [
    "# imports\n",
    "\n",
    "import jax\n",
    "\n",
    "# import jax.numpy as jnp\n",
    "# import optax\n",
    "# import torch\n",
    "from typing import Union\n",
    "\n",
    "import equinox as eqx"
   ]
  },
  {
   "cell_type": "code",
   "execution_count": 9,
   "metadata": {},
   "outputs": [],
   "source": [
    "# Hyperparameters"
   ]
  },
  {
   "cell_type": "code",
   "execution_count": 11,
   "metadata": {},
   "outputs": [],
   "source": [
    "# Generator Model\n",
    "\n",
    "\n",
    "class Generator(eqx.Module):\n",
    "    conv_layers: list[Union[eqx.nn.ConvTranspose2d, eqx.nn.BatchNorm, jax.nn.relu]]\n",
    "    output_layers: list[Union[eqx.nn.ConvTranspose2d, jax.nn.tanh]]\n",
    "\n",
    "    def __init__(\n",
    "        self, input_shape: int = 100, output_shape: tuple[int, int] = (64, 64, 3)\n",
    "    ):\n",
    "        self.conv_layers = [\n",
    "            eqx.nn.ConvTranspose2d(\n",
    "                in_channels=input_shape,\n",
    "                out_channels=output_shape[0] * 8,\n",
    "                kernel_size=4,\n",
    "                stride=1,\n",
    "                padding=0,\n",
    "                bias=False,\n",
    "            ),\n",
    "            eqx.nn.BatchNorm(),\n",
    "            jax.nn.relu,\n",
    "            eqx.nn.ConvTranspose2d(\n",
    "                in_channels=output_shape[0] * 8,\n",
    "                out_channels=output_shape[0] * 4,\n",
    "                kernel_size=4,\n",
    "                stride=2,\n",
    "                padding=1,\n",
    "                bias=False,\n",
    "            ),\n",
    "            eqx.nn.BatchNorm(),\n",
    "            jax.nn.relu,\n",
    "            eqx.nn.ConvTranspose2d(\n",
    "                in_channels=output_shape[0] * 4,\n",
    "                out_channels=output_shape[0] * 2,\n",
    "                kernel_size=4,\n",
    "                stride=2,\n",
    "                padding=1,\n",
    "                bias=False,\n",
    "            ),\n",
    "            eqx.nn.BatchNorm(),\n",
    "            jax.nn.relu,\n",
    "            eqx.nn.ConvTranspose2d(\n",
    "                in_channels=output_shape[0] * 2,\n",
    "                out_channels=output_shape[0],\n",
    "                kernel_size=4,\n",
    "                stride=2,\n",
    "                padding=1,\n",
    "                bias=False,\n",
    "            ),\n",
    "            eqx.nn.BatchNorm(),\n",
    "            jax.nn.relu,\n",
    "        ]\n",
    "\n",
    "        self.output_layers = [\n",
    "            eqx.nn.ConvTranspose2d(\n",
    "                in_channels=output_shape[0],\n",
    "                out_channels=output_shape[2],\n",
    "                kernel_size=4,\n",
    "                stride=2,\n",
    "                padding=1,\n",
    "                bias=False,\n",
    "            ),\n",
    "            jax.nn.tanh,\n",
    "        ]\n",
    "\n",
    "    def __call__(self, x):\n",
    "        for layer in self.conv_layers:\n",
    "            x = layer(x)\n",
    "        for layer in self.output_layers:\n",
    "            x = layer(x)\n",
    "\n",
    "        return x"
   ]
  },
  {
   "cell_type": "code",
   "execution_count": 5,
   "metadata": {},
   "outputs": [],
   "source": [
    "# Discriminator Model\n",
    "\n",
    "\n",
    "class Discriminator(eqx.Module):\n",
    "    pass"
   ]
  }
 ],
 "metadata": {
  "kernelspec": {
   "display_name": "Python 3 (ipykernel)",
   "language": "python",
   "name": "python3"
  },
  "language_info": {
   "codemirror_mode": {
    "name": "ipython",
    "version": 3
   },
   "file_extension": ".py",
   "mimetype": "text/x-python",
   "name": "python",
   "nbconvert_exporter": "python",
   "pygments_lexer": "ipython3",
   "version": "3.9.6"
  },
  "orig_nbformat": 4
 },
 "nbformat": 4,
 "nbformat_minor": 2
}
