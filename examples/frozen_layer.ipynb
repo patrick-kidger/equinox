{
 "cells": [
  {
   "cell_type": "markdown",
   "id": "71f37252-8e84-4521-b9c7-7fb107f599c1",
   "metadata": {},
   "source": [
    "# Freezing parameters\n",
    "\n",
    "In this example, we demonstrate how to only train some parameters and freeze the rest.\n",
    "\n",
    "This example is available as a Jupyter notebook [here](https://github.com/patrick-kidger/equinox/blob/main/examples/frozen_layer.ipynb)."
   ]
  },
  {
   "cell_type": "code",
   "execution_count": 1,
   "id": "9e127af2-03ac-47d7-b185-4b6b40d4cb7a",
   "metadata": {},
   "outputs": [],
   "source": [
    "import equinox as eqx\n",
    "import jax\n",
    "import jax.numpy as jnp\n",
    "import jax.random as jrandom\n",
    "import jax.tree_util as jtu\n",
    "import optax  # https://github.com/deepmind/optax"
   ]
  },
  {
   "cell_type": "code",
   "execution_count": 2,
   "id": "a5732648-7126-465f-b8b2-8d18a325f7c8",
   "metadata": {},
   "outputs": [],
   "source": [
    "# Toy data\n",
    "def get_data(dataset_size, *, key):\n",
    "    x = jrandom.normal(key, (dataset_size, 1))\n",
    "    y = 5 * x - 2\n",
    "    return x, y\n",
    "\n",
    "\n",
    "# Toy dataloader\n",
    "def dataloader(arrays, batch_size, *, key):\n",
    "    dataset_size = arrays[0].shape[0]\n",
    "    assert all(array.shape[0] == dataset_size for array in arrays)\n",
    "    indices = jnp.arange(dataset_size)\n",
    "    while True:\n",
    "        perm = jrandom.permutation(key, indices)\n",
    "        (key,) = jrandom.split(key, 1)\n",
    "        start = 0\n",
    "        end = batch_size\n",
    "        while end < dataset_size:\n",
    "            batch_perm = perm[start:end]\n",
    "            yield tuple(array[batch_perm] for array in arrays)\n",
    "            start = end\n",
    "            end = start + batch_size"
   ]
  },
  {
   "cell_type": "markdown",
   "id": "1f8d3f12-9a34-4609-984d-adfce11a3e7a",
   "metadata": {},
   "source": [
    "Here, we:\n",
    "\n",
    "1. Set up a model. In this case, an MLP.\n",
    "2. Set up a `filter_spec`. This will be a PyTree of the same structure as the model, with `False` on every leaf -- except for the leaves corresponding to the final layer, which we set to `True`.\n",
    "3. Specify how to make a step. We'll separate out the leaves we want to differentiate from the leaves that we want to leave alone by using [`equinox.partition`][]."
   ]
  },
  {
   "cell_type": "code",
   "execution_count": 5,
   "id": "a8dbd053-6695-469c-8734-bd4326c81add",
   "metadata": {},
   "outputs": [],
   "source": [
    "def main(\n",
    "    dataset_size=10000,\n",
    "    batch_size=256,\n",
    "    learning_rate=3e-3,\n",
    "    steps=1000,\n",
    "    width_size=8,\n",
    "    depth=1,\n",
    "    seed=5678,\n",
    "):\n",
    "    data_key, loader_key, model_key = jrandom.split(jrandom.PRNGKey(seed), 3)\n",
    "    data = get_data(dataset_size, key=data_key)\n",
    "    data_iter = dataloader(data, batch_size, key=loader_key)\n",
    "\n",
    "    # Step 1\n",
    "    model = eqx.nn.MLP(\n",
    "        in_size=1, out_size=1, width_size=width_size, depth=depth, key=model_key\n",
    "    )\n",
    "\n",
    "    # Step 2\n",
    "    filter_spec = jtu.tree_map(lambda _: False, model)\n",
    "    filter_spec = eqx.tree_at(\n",
    "        lambda tree: (tree.layers[-1].weight, tree.layers[-1].bias),\n",
    "        filter_spec,\n",
    "        replace=(True, True),\n",
    "    )\n",
    "\n",
    "    # Step 3\n",
    "    @eqx.filter_jit\n",
    "    def make_step(model, x, y, opt_state):\n",
    "        @eqx.filter_grad\n",
    "        def loss(diff_model, static_model, x, y):\n",
    "            model = eqx.combine(diff_model, static_model)\n",
    "            pred_y = jax.vmap(model)(x)\n",
    "            return jnp.mean((y - pred_y) ** 2)\n",
    "\n",
    "        diff_model, static_model = eqx.partition(model, filter_spec)\n",
    "        grads = loss(diff_model, static_model, x, y)\n",
    "        updates, opt_state = optim.update(grads, opt_state)\n",
    "        model = eqx.apply_updates(model, updates)\n",
    "        return model, opt_state\n",
    "\n",
    "    # And now let's train for a short while -- in exactly the usual way -- and see what\n",
    "    # happens. We keep the original model around to compare to later.\n",
    "    original_model = model\n",
    "    optim = optax.sgd(learning_rate)\n",
    "    opt_state = optim.init(model)\n",
    "    for step, (x, y) in zip(range(steps), data_iter):\n",
    "        model, opt_state = make_step(model, x, y, opt_state)\n",
    "    print(\n",
    "        f\"Parameters of first layer at initialisation:\\n\"\n",
    "        f\"{jtu.tree_leaves(original_model.layers[0])}\\n\"\n",
    "    )\n",
    "    print(\n",
    "        f\"Parameters of first layer at end of training:\\n\"\n",
    "        f\"{jtu.tree_leaves(model.layers[0])}\\n\"\n",
    "    )\n",
    "    print(\n",
    "        f\"Parameters of last layer at initialisation:\\n\"\n",
    "        f\"{jtu.tree_leaves(original_model.layers[-1])}\\n\"\n",
    "    )\n",
    "    print(\n",
    "        f\"Parameters of last layer at end of training:\\n\"\n",
    "        f\"{jtu.tree_leaves(model.layers[-1])}\\n\"\n",
    "    )"
   ]
  },
  {
   "cell_type": "markdown",
   "id": "6e7c6894-f98e-46cc-9869-afe30ca40828",
   "metadata": {},
   "source": [
    "As we'll see, the parameters of the first layer remain unchanged throughout training. Just the parameters of the last layer are trained."
   ]
  },
  {
   "cell_type": "code",
   "execution_count": 6,
   "id": "b96e16eb-20f9-4219-92b0-fe13d04db9e9",
   "metadata": {},
   "outputs": [
    {
     "name": "stdout",
     "output_type": "stream",
     "text": [
      "Parameters of first layer at initialisation:\n",
      "[DeviceArray([[-0.5500405 ],\n",
      "             [ 0.67074966],\n",
      "             [-0.9094155 ],\n",
      "             [-0.5518596 ],\n",
      "             [-0.1648488 ],\n",
      "             [ 0.98241615],\n",
      "             [-0.9118581 ],\n",
      "             [ 0.32483125]], dtype=float32), DeviceArray([ 0.8876705 ,  0.4363706 , -0.878813  ,  0.26387787,\n",
      "             -0.68248963, -0.9517925 , -0.21384668, -0.2857628 ],            dtype=float32)]\n",
      "\n",
      "Parameters of first layer at end of training:\n",
      "[DeviceArray([[-0.5500405 ],\n",
      "             [ 0.67074966],\n",
      "             [-0.9094155 ],\n",
      "             [-0.5518596 ],\n",
      "             [-0.1648488 ],\n",
      "             [ 0.98241615],\n",
      "             [-0.9118581 ],\n",
      "             [ 0.32483125]], dtype=float32), DeviceArray([ 0.8876705 ,  0.4363706 , -0.878813  ,  0.26387787,\n",
      "             -0.68248963, -0.9517925 , -0.21384668, -0.2857628 ],            dtype=float32)]\n",
      "\n",
      "Parameters of last layer at initialisation:\n",
      "[DeviceArray([[ 0.33031464,  0.16732198,  0.04151077, -0.01495699,\n",
      "              -0.00766617,  0.08186949,  0.33581698,  0.13139524]],            dtype=float32), DeviceArray([-0.05869024], dtype=float32)]\n",
      "\n",
      "Parameters of last layer at end of training:\n",
      "[DeviceArray([[-2.8348155 ,  3.3568215 , -0.767634  , -2.131908  ,\n",
      "              -0.00766617,  1.3563743 , -1.6294041 ,  0.60640407]],            dtype=float32), DeviceArray([-0.10058348], dtype=float32)]\n",
      "\n"
     ]
    }
   ],
   "source": [
    "main()"
   ]
  }
 ],
 "metadata": {
  "kernelspec": {
   "display_name": "py37",
   "language": "python",
   "name": "py37"
  },
  "language_info": {
   "codemirror_mode": {
    "name": "ipython",
    "version": 3
   },
   "file_extension": ".py",
   "mimetype": "text/x-python",
   "name": "python",
   "nbconvert_exporter": "python",
   "pygments_lexer": "ipython3",
   "version": "3.8.13"
  },
  "vscode": {
   "interpreter": {
    "hash": "110cc1dee26208153f2972f08a2ad52b6a56238dc66d48e87fb757ef2996db56"
   }
  }
 },
 "nbformat": 4,
 "nbformat_minor": 5
}
