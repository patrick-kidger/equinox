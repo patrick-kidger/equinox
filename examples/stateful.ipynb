{
 "cells": [
  {
   "cell_type": "markdown",
   "id": "feef57f0-b351-46af-821d-cf43bcbaf60d",
   "metadata": {},
   "source": [
    "# Stateful operations (e.g. BatchNorm)\n",
    "\n",
    "Some layers, such as [`equinox.nn.BatchNorm`][] are sometimes called \"stateful\": this refers to the fact that they take an additional input (in the case of BatchNorm, the running statistics) and return an additional output (the updated running statistics).\n",
    "\n",
    "This just means that we need to plumb an extra input and output through our models. This example demonstrates both [`equinox.nn.BatchNorm`][] and [`equinox.nn.SpectralNorm`][].\n",
    "\n",
    "See also the [stateful API reference](../api/nn/stateful.md).\n",
    "\n",
    "This example is available as a Jupyter notebook [here](https://github.com/patrick-kidger/equinox/blob/main/examples/stateful.ipynb)."
   ]
  },
  {
   "cell_type": "code",
   "execution_count": 1,
   "id": "c8e60412-cf59-4ba6-bbdb-3117e914f949",
   "metadata": {
    "tags": []
   },
   "outputs": [],
   "source": [
    "import equinox as eqx\n",
    "import jax\n",
    "import jax.numpy as jnp\n",
    "import jax.random as jr\n",
    "import optax  # https://github.com/deepmind/optax"
   ]
  },
  {
   "cell_type": "code",
   "execution_count": 2,
   "id": "c1c7d0d5-26bf-405b-a208-6cda4c12f8ff",
   "metadata": {},
   "outputs": [],
   "source": [
    "# This model is just a weird mish-mash of stateful and non-stateful layers for\n",
    "# demonstration purposes, it isn't doing any clever.\n",
    "class Model(eqx.Module):\n",
    "    norm1: eqx.nn.BatchNorm\n",
    "    spectral_linear: eqx.nn.SpectralNorm[eqx.nn.Linear]\n",
    "    norm2: eqx.nn.BatchNorm\n",
    "    linear1: eqx.nn.Linear\n",
    "    linear2: eqx.nn.Linear\n",
    "\n",
    "    def __init__(self, key):\n",
    "        key1, key2, key3, key4 = jr.split(key, 4)\n",
    "        self.norm1 = eqx.nn.BatchNorm(input_size=3, axis_name=\"batch\")\n",
    "        self.spectral_linear = eqx.nn.SpectralNorm(\n",
    "            layer=eqx.nn.Linear(in_features=3, out_features=32, key=key1),\n",
    "            weight_name=\"weight\",\n",
    "            key=key2,\n",
    "        )\n",
    "        self.norm2 = eqx.nn.BatchNorm(input_size=32, axis_name=\"batch\")\n",
    "        self.linear1 = eqx.nn.Linear(in_features=32, out_features=32, key=key3)\n",
    "        self.linear2 = eqx.nn.Linear(in_features=32, out_features=3, key=key4)\n",
    "\n",
    "    def __call__(self, x, state):\n",
    "        x, state = self.norm1(x, state)\n",
    "        x, state = self.spectral_linear(x, state)\n",
    "        x = jax.nn.relu(x)\n",
    "        x, state = self.norm2(x, state)\n",
    "        x = self.linear1(x)\n",
    "        x = jax.nn.relu(x)\n",
    "        x = self.linear2(x)\n",
    "        return x, state"
   ]
  },
  {
   "cell_type": "markdown",
   "id": "2b931647-01ff-4eb9-972f-55d3d50771c6",
   "metadata": {},
   "source": [
    "We see from the above that we just define our models like normal. As advertised, we just need to thread the additional `state` object in and out of every call. An updated state object is returned.\n",
    "\n",
    "There's really nothing special here about stateful layers. Equinox isn't special-casing them in any way. We thread `state` in and out, just like we're thread `x` in and out. In fact calling it \"state\" is really just a matter of how it's advertised!\n",
    "\n",
    "---\n",
    "\n",
    "Alright, now let's see how we might train this model. This is also much like normal.\n",
    "\n",
    "Note the use of `in_axes` and `out_axes`: our data is batched, but our model state isn't batched -- just like how our model parameters isn't batched.\n",
    "\n",
    "Note how the `axis_name` argment matches the `axis_name` argument that the `BatchNorm` layers were initialised with. This tells `BatchNorm` which vmap'd axis it should compute statistics over. (This is a detail specific to `BatchNorm`, and is unrelated to stateful operations in general.)"
   ]
  },
  {
   "cell_type": "code",
   "execution_count": 3,
   "id": "b8300043-aa88-4676-8501-ff338f1e741b",
   "metadata": {},
   "outputs": [],
   "source": [
    "def compute_loss(model, state, xs, ys):\n",
    "    batch_model = jax.vmap(\n",
    "        model, axis_name=\"batch\", in_axes=(0, None), out_axes=(0, None)\n",
    "    )\n",
    "    pred_ys, state = batch_model(xs, state)\n",
    "    loss = jnp.mean((pred_ys - ys) ** 2)\n",
    "    return loss, state\n",
    "\n",
    "\n",
    "@eqx.filter_jit\n",
    "def make_step(model, state, opt_state, xs, ys):\n",
    "    grads, state = eqx.filter_grad(compute_loss, has_aux=True)(model, state, xs, ys)\n",
    "    updates, opt_state = optim.update(grads, opt_state)\n",
    "    model = eqx.apply_updates(model, updates)\n",
    "    return model, state, opt_state"
   ]
  },
  {
   "cell_type": "markdown",
   "id": "d85113ae-7d63-4051-83bd-e9e921dfcae1",
   "metadata": {},
   "source": [
    "---\n",
    "\n",
    "And now, let's see how we initialise this model, and initialise its state."
   ]
  },
  {
   "cell_type": "code",
   "execution_count": 4,
   "id": "3a7f49fd-9b91-462a-b1d5-dc694f56411e",
   "metadata": {
    "tags": []
   },
   "outputs": [],
   "source": [
    "dataset_size = 10\n",
    "learning_rate = 3e-4\n",
    "steps = 5\n",
    "seed = 5678\n",
    "\n",
    "key = jr.PRNGKey(seed)\n",
    "mkey, xkey, xkey2 = jr.split(key, 3)\n",
    "\n",
    "model, state = eqx.nn.make_with_state(Model)(mkey)\n",
    "\n",
    "xs = jr.normal(xkey, (dataset_size, 3))\n",
    "ys = jnp.sin(xs) + 1\n",
    "optim = optax.adam(learning_rate)\n",
    "opt_state = optim.init(eqx.filter(model, eqx.is_inexact_array))\n",
    "\n",
    "for _ in range(steps):\n",
    "    # Full-batch gradient descent in this simple example.\n",
    "    model, state, opt_state = make_step(model, state, opt_state, xs, ys)"
   ]
  },
  {
   "cell_type": "markdown",
   "id": "9c2135ba-07dc-4ce7-89c1-105bd699e78d",
   "metadata": {},
   "source": [
    "!!! Info \"What is `eqx.nn.make_with_state` doing?\"\n",
    "\n",
    "    Here we come to the only interesting bit about using stateful layers!\n",
    "\n",
    "    When we initialise the model -- e.g. if we were to call `Model(mkey)` directly -- then the model PyTree would be initialised containing both (a) the initial parameters, and (b) the initial state. So `make_with_state` simply calls this, and then separates these two things. The returned `model` is a PyTree holding all the initial parameters (just like any other model), and `state` is a PyTree holding the initial state.\n",
    "\n",
    "---\n",
    "\n",
    "Finally, let's use our trained model to perform inference.\n",
    "\n",
    "Remember to set the inference flag! Some layers have different behaviour between training and inference, and `BatchNorm` is one of these. (This is a detail specific to layers like `BatchNorm` and [`equinox.nn.Dropout`][], and is unrelated to stateful operations in general.)\n",
    "\n",
    "We also fix the final state in the model, using [`equinox.Partial`][]. The resulting `inference_model` is a PyTree (specifically, an `equinox.Partial`) containing both `model` and `state`."
   ]
  },
  {
   "cell_type": "code",
   "execution_count": 5,
   "id": "c53cffd0-afd2-49c3-aa21-79eca5792598",
   "metadata": {},
   "outputs": [],
   "source": [
    "inference_model = eqx.nn.inference_mode(model)\n",
    "inference_model = eqx.Partial(inference_model, state=state)\n",
    "\n",
    "\n",
    "@eqx.filter_jit\n",
    "def evaluate(model, xs):\n",
    "    # discard state\n",
    "    out, _ = jax.vmap(model)(xs)\n",
    "    return out\n",
    "\n",
    "\n",
    "test_dataset_size = 5\n",
    "test_xs = jr.normal(xkey2, (test_dataset_size, 3))\n",
    "pred_test_ys = evaluate(inference_model, test_xs)"
   ]
  },
  {
   "cell_type": "markdown",
   "id": "d22e4395-9006-465e-ba0b-a4b0d8131bd7",
   "metadata": {},
   "source": [
    "Here, we don't need the updated state object that is produced, so we just discard it."
   ]
  }
 ],
 "metadata": {
  "kernelspec": {
   "display_name": "py311",
   "language": "python",
   "name": "py311"
  },
  "language_info": {
   "codemirror_mode": {
    "name": "ipython",
    "version": 3
   },
   "file_extension": ".py",
   "mimetype": "text/x-python",
   "name": "python",
   "nbconvert_exporter": "python",
   "pygments_lexer": "ipython3",
   "version": "3.11.3"
  }
 },
 "nbformat": 4,
 "nbformat_minor": 5
}
