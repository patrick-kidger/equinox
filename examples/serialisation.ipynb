{
 "cells": [
  {
   "cell_type": "markdown",
   "id": "443a50ff-d105-4a10-9363-050725fe21df",
   "metadata": {},
   "source": [
    "# Serialising both weights and hyperparameters\n",
    "\n",
    "Equinox has [facilities](/equinox/api/utilities/serialisation/) for the serialisation of the leaves of arbitrary PyTrees. The most basic use is to call `eqx.tree_serialise_leaves(filename, model)` to write all weights to a file. Deserialisation requires a PyTree of the correct shape to serve as a \"skeleton\" of sorts, whose weights are then read from the file with `model = eqx.tree_deserialise_leaves(filename, skeleton)`.\n",
    "\n",
    "However, a typical model has both weights (arrays stored as leaves in the PyTree) and hyperparameters (the size of the network, etc.). When deserialising, we would like to read the hyperparameters as well as the weights. Ideally they should be stored in the same file. We can accomplish this as follows."
   ]
  },
  {
   "cell_type": "markdown",
   "id": "f2a0bae8-2435-4b37-b1f2-24322cfeb1dd",
   "metadata": {},
   "source": [
    "Let's import everything and set up a simple model:"
   ]
  },
  {
   "cell_type": "code",
   "execution_count": 5,
   "id": "83bba892-5425-4eed-a7f7-9c325fe5cc53",
   "metadata": {},
   "outputs": [],
   "source": [
    "import json\n",
    "\n",
    "import equinox as eqx\n",
    "import jax\n",
    "import jax.numpy as jnp\n",
    "import jax.random as jr\n",
    "\n",
    "\n",
    "def make(*, key, size, width, depth, use_tanh=False):\n",
    "    if use_tanh:\n",
    "        activation = jnp.tanh\n",
    "    else:\n",
    "        activation = jax.nn.relu\n",
    "    # (This is not meant to be a realistically useful model.)\n",
    "    return eqx.nn.MLP(\n",
    "        in_size=size,\n",
    "        out_size=1,\n",
    "        width_size=width,\n",
    "        depth=depth,\n",
    "        activation=activation,\n",
    "        key=key,\n",
    "    )\n",
    "\n",
    "\n",
    "hyperparameters = {\"size\": 5, \"width\": 10, \"depth\": 3, \"use_tanh\": True}\n",
    "model = make(key=jr.PRNGKey(0), **hyperparameters)"
   ]
  },
  {
   "cell_type": "markdown",
   "id": "0fb345b0-c9b3-44df-94e8-d74c7ad172b8",
   "metadata": {},
   "source": [
    "At this point, we haven't just created a model, but defined a function that allows us to re-create a model of the same structure. Additionally, the hyperparameters used to create `model` have been saved for later serialisation.\n",
    "\n",
    "We may now train the model as usual. When the time comes to serialise, we want to put both hyperparameters and leaves in the same file. This is accomplished like so:"
   ]
  },
  {
   "cell_type": "code",
   "execution_count": 3,
   "id": "fd94db04-9fe4-4530-808e-945becef9df5",
   "metadata": {},
   "outputs": [],
   "source": [
    "def save(filename, hyperparams, model):\n",
    "    with open(filename, \"wb\") as f:\n",
    "        hyperparam_str = json.dumps(hyperparams)\n",
    "        f.write((hyperparam_str + \"\\n\").encode())\n",
    "        eqx.tree_serialise_leaves(f, model)\n",
    "\n",
    "\n",
    "save(\"model.eqx\", hyperparameters, model)"
   ]
  },
  {
   "cell_type": "markdown",
   "id": "da180e54-0deb-4e33-be7b-9856049cd483",
   "metadata": {},
   "source": [
    "We've been a bit slick here. A single file now contains a valid json expression storing the hyperparameters and, after a newline, the bytes serialising the weights in our model. Implicitly we're relying on the fact that python's built-in json serialisation places everything on a single line.\n",
    "\n",
    "With the hyperparameters and model serialised in this way, deserialisation occurs in three steps:\n",
    "1. Read the first line from the file, and parse the json into a dictionary.\n",
    "2. Construct a skeleton model using `make(...)`.\n",
    "3. Have Equinox deserialise the remainder of the file, using the skeleton."
   ]
  },
  {
   "cell_type": "code",
   "execution_count": 4,
   "id": "32c6b58e-f72f-4dd4-bf2c-f1dc75643eda",
   "metadata": {
    "tags": []
   },
   "outputs": [],
   "source": [
    "def load(filename):\n",
    "    with open(filename, \"rb\") as f:\n",
    "        hyperparams = json.loads(f.readline().decode())\n",
    "        model = make(key=jr.PRNGKey(0), **hyperparams)\n",
    "        return eqx.tree_deserialise_leaves(f, model)\n",
    "\n",
    "\n",
    "newmodel = load(\"model.eqx\")\n",
    "\n",
    "# Check that it's loaded correctly:\n",
    "assert model.layers[1].weight[2, 2] == newmodel.layers[1].weight[2, 2]"
   ]
  },
  {
   "cell_type": "markdown",
   "id": "dee431d2-41f4-4e96-89f2-47e239d92574",
   "metadata": {},
   "source": [
    "**Your hyperparameters must be serialisable**\n",
    "\n",
    "Note that the hyperparameters themselves be serialisable (in the above example, as JSON). Fortunately, this is pretty typical.\n",
    "\n",
    "**Why not `pickle`?**\n",
    "\n",
    "The `pickle` module is python's go-to for all-purpose serialisation. Why didn't we just use that?\n",
    "\n",
    "First, Equinox and JAX make rich use of unpickleable quantities, e.g. `lambda` expressions. This can potentially be cured by using another package (e.g. [`dill`](https://pypi.org/project/dill/) or [`cloudpickle`](https://pypi.org/project/cloudpickle/)).\n",
    "\n",
    "Second, pickling is infamously pretty fraught with edge cases. If we can take a more structured approach (as above), then it's nicer to do so. (For example, the pickle format changes from time to time.)\n",
    "\n",
    "Third, unpickling loads and runs arbitrary code. When you download an open-source model, this can be a serious security concern! We all expect a file named `*.py` to be potentially malicious, but a file ostensibly containing \"just floating-point numbers\" should be safe to use from an untrusted source. The methods described above allow weights to be shared safely as long as the underlying model code is trusted; the serialised file really is interpreted as just an array of numbers.\n",
    "\n",
    "**Other notes**\n",
    "\n",
    "* Many variations are possible. For example, Equinox serialisation doesn't have to write to a file. You can write to any compatible buffer, e.g. an `io.BytesIO` object.\n",
    "* If you serialise/deserialise between training and inference, and you are using [`equinox.nn.BathcNorm`][], [`equinox.nn.Dropout`][] etc., then make sure to set your desired inference flag when loading. Perhaps make this a required argument to `make(...)`.\n",
    "\n"
   ]
  }
 ],
 "metadata": {
  "kernelspec": {
   "display_name": "Python 3 (ipykernel)",
   "language": "python",
   "name": "python3"
  },
  "language_info": {
   "codemirror_mode": {
    "name": "ipython",
    "version": 3
   },
   "file_extension": ".py",
   "mimetype": "text/x-python",
   "name": "python",
   "nbconvert_exporter": "python",
   "pygments_lexer": "ipython3",
   "version": "3.11.3"
  }
 },
 "nbformat": 4,
 "nbformat_minor": 5
}
