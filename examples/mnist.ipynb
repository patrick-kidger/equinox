{
 "cells": [
  {
   "cell_type": "markdown",
   "id": "c323c856-04c5-40fe-8dae-cdab30144eef",
   "metadata": {},
   "source": [
    "# Convolutional Neural Network on MNIST\n",
    "\n",
    "This is an introductory example, intended for those who are new to both JAX and Equinox. This example builds a CNN to classify MNIST, and demonstrates:\n",
    "\n",
    "- How to create a custom neural network using Equinox;\n",
    "- When and why to use the `eqx.filter_{...}` functions;\n",
    "- What your neural network looks like \"under the hood\" (like a PyTree).\n",
    "\n",
    "The JAX ecosystem is build around a number of libraries, that each do a single thing. So in addition to Equinox (for model building), this example also uses [Optax](https://github.com/deepmind/optax) to train the network, and [jaxtyping](https://github.com/google/jaxtyping) to provide type annotations.\n",
    "\n",
    "This example is available as a Jupyter notebook [here](https://github.com/patrick-kidger/equinox/blob/main/examples/mnist.ipynb).\n",
    "\n",
    "!!! FAQ \"What's the difference between JAX and Equinox?\"\n",
    "\n",
    "    [JAX](https://github.com/google/jax) is the underlying library for numerical routines: it provides JIT compilation, autodifferentiation, and operations like matrix multiplication etc. However it deliberately does *not* provide anything to do with any particular use case, like neural networks -- these are delegated to downstream libraries.\n",
    "\n",
    "    Equinox is one such library. It provides neural network operations, plus many more advanced features. Go back and take a look at the [All of Equinox](../all-of-equinox.md) page once you've finished this example!"
   ]
  },
  {
   "cell_type": "code",
   "execution_count": 1,
   "id": "20a8b9ef-2a4b-4186-b016-77257d8387e4",
   "metadata": {
    "tags": []
   },
   "outputs": [],
   "source": [
    "import equinox as eqx\n",
    "import jax\n",
    "import jax.numpy as jnp\n",
    "import optax  # https://github.com/deepmind/optax\n",
    "import torch  # https://pytorch.org\n",
    "import torchvision  # https://pytorch.org\n",
    "from jaxtyping import Array, Float, Int, PyTree  # https://github.com/google/jaxtyping"
   ]
  },
  {
   "cell_type": "code",
   "execution_count": 2,
   "id": "fdf96510-c313-451c-8764-6c3a975950a5",
   "metadata": {
    "tags": []
   },
   "outputs": [],
   "source": [
    "# Hyperparameters\n",
    "\n",
    "BATCH_SIZE = 64\n",
    "LEARNING_RATE = 3e-4\n",
    "STEPS = 300\n",
    "PRINT_EVERY = 30\n",
    "SEED = 5678\n",
    "\n",
    "key = jax.random.PRNGKey(SEED)"
   ]
  },
  {
   "cell_type": "markdown",
   "id": "fca61991-c7e4-4fec-aad5-0f91958dc91a",
   "metadata": {},
   "source": [
    "## The dataset\n",
    "\n",
    "We load the MNIST dataset using PyTorch.\n",
    "\n",
    "JAX deliberately does not provide any built-in datasets or dataloaders! This is because there are already some well-curated datasets and dataloaders available elsewhere -- so it is common to use JAX alongside another library to provide these.\n",
    "\n",
    "- If you like PyTorch, then see [here](https://pytorch.org/tutorials/beginner/basics/data_tutorial.html) for a guide to its `DataSet` and `DataLoader` classes.\n",
    "- If you like TensorFlow, then see [here](https://www.tensorflow.org/guide/data) for a guide to its `tf.data` pipeline.\n",
    "- If you like NumPy -- which is a good choice for small in-memory datasets -- then see [here](../train_rnn/) for an example."
   ]
  },
  {
   "cell_type": "code",
   "execution_count": 3,
   "id": "7265bf49-5ffb-40df-b89e-d2b411c53e35",
   "metadata": {
    "tags": []
   },
   "outputs": [],
   "source": [
    "normalise_data = torchvision.transforms.Compose(\n",
    "    [\n",
    "        torchvision.transforms.ToTensor(),\n",
    "        torchvision.transforms.Normalize((0.5,), (0.5,)),\n",
    "    ]\n",
    ")\n",
    "train_dataset = torchvision.datasets.MNIST(\n",
    "    \"MNIST\",\n",
    "    train=True,\n",
    "    download=True,\n",
    "    transform=normalise_data,\n",
    ")\n",
    "test_dataset = torchvision.datasets.MNIST(\n",
    "    \"MNIST\",\n",
    "    train=False,\n",
    "    download=True,\n",
    "    transform=normalise_data,\n",
    ")\n",
    "trainloader = torch.utils.data.DataLoader(\n",
    "    train_dataset, batch_size=BATCH_SIZE, shuffle=True\n",
    ")\n",
    "testloader = torch.utils.data.DataLoader(\n",
    "    test_dataset, batch_size=BATCH_SIZE, shuffle=True\n",
    ")"
   ]
  },
  {
   "cell_type": "code",
   "execution_count": 4,
   "id": "acd38e98-187d-458b-be5a-e6922c9d996a",
   "metadata": {
    "tags": []
   },
   "outputs": [
    {
     "name": "stdout",
     "output_type": "stream",
     "text": [
      "(64, 1, 28, 28)\n",
      "(64,)\n",
      "[0 7 1 2 2 2 7 5 5 6 3 7 4 6 5 8 3 3 2 4 0 9 2 9 1 1 0 7 9 9 7 0 8 1 8 1 4\n",
      " 4 4 5 1 3 8 3 3 0 0 8 3 6 1 0 0 9 2 4 6 6 0 7 7 1 8 7]"
     ]
    }
   ],
   "source": [
    "# Checking our data a bit (by now, everyone knows what the MNIST dataset looks like)\n",
    "dummy_x, dummy_y = next(iter(trainloader))\n",
    "dummy_x = dummy_x.numpy()\n",
    "dummy_y = dummy_y.numpy()\n",
    "print(dummy_x.shape)  # 64x1x28x28\n",
    "print(dummy_y.shape)  # 64\n",
    "print(dummy_y)"
   ]
  },
  {
   "cell_type": "markdown",
   "id": "f46308b7-503f-4174-b2cd-926672475880",
   "metadata": {},
   "source": [
    "We can see that our input has the shape `(64, 1, 28, 28)`. 64 is the batch size, 1 is the number of input channels (MNIST is greyscale) and 28x28 are the height and width of the image in pixels. The label is of shape `(64,)`, and each value is a number from 0 to 9."
   ]
  },
  {
   "cell_type": "markdown",
   "id": "10120307-a5a8-43d1-a8d4-2d2f799167ea",
   "metadata": {},
   "source": [
    "## The model\n",
    "\n",
    "Our convolutional neural network (CNN) will store a list of all its operations. There is no explicit requirement to do it that way, it's simply convenient for this example.\n",
    "\n",
    "These operations can be any JAX operation. Some of these will be Equinox's built in layers (e.g. convolutions), and some of them will be functions from JAX itself (e.g. `jax.nn.relu` as an activation function)."
   ]
  },
  {
   "cell_type": "code",
   "execution_count": 5,
   "id": "ad67244a-9093-4fe3-a110-99b03354e63b",
   "metadata": {
    "tags": []
   },
   "outputs": [],
   "source": [
    "class CNN(eqx.Module):\n",
    "    layers: list\n",
    "\n",
    "    def __init__(self, key):\n",
    "        key1, key2, key3, key4 = jax.random.split(key, 4)\n",
    "        # Standard CNN setup: convolutional layer, followed by flattening,\n",
    "        # with a small MLP on top.\n",
    "        self.layers = [\n",
    "            eqx.nn.Conv2d(1, 3, kernel_size=4, key=key1),\n",
    "            eqx.nn.MaxPool2d(kernel_size=2),\n",
    "            jax.nn.relu,\n",
    "            jnp.ravel,\n",
    "            eqx.nn.Linear(1728, 512, key=key2),\n",
    "            jax.nn.sigmoid,\n",
    "            eqx.nn.Linear(512, 64, key=key3),\n",
    "            jax.nn.relu,\n",
    "            eqx.nn.Linear(64, 10, key=key4),\n",
    "            jax.nn.log_softmax,\n",
    "        ]\n",
    "\n",
    "    def __call__(self, x: Float[Array, \"1 28 28\"]) -> Float[Array, \"10\"]:\n",
    "        for layer in self.layers:\n",
    "            x = layer(x)\n",
    "        return x\n",
    "\n",
    "\n",
    "key, subkey = jax.random.split(key, 2)\n",
    "model = CNN(subkey)"
   ]
  },
  {
   "cell_type": "markdown",
   "id": "0a98b74e-b049-4c71-9ffe-4c123ab96e10",
   "metadata": {},
   "source": [
    "As with everything in Equinox, our model is a PyTree. That is to say, just a nested collection of objects. Some of these object are JAX arrays; for example `model.layers[0].weight` is the kernel of our convolution. And some of these objects are essentially arbitrary Python objects; for example `model.layers[-1]` is `jax.nn.log_softmax`, which is just a Python function like any other.\n",
    "\n",
    "Equinox provides a nice `__repr__` for its modules, so we can just print out what our PyTree looks like:"
   ]
  },
  {
   "cell_type": "code",
   "execution_count": 6,
   "id": "18958774-ac0f-4eb1-bbb7-69764d7fd87d",
   "metadata": {
    "tags": []
   },
   "outputs": [
    {
     "name": "stdout",
     "output_type": "stream",
     "text": [
      "CNN(\n",
      "  layers=[\n",
      "    Conv2d(\n",
      "      num_spatial_dims=2,\n",
      "      weight=f32[3,1,4,4],\n",
      "      bias=f32[3,1,1],\n",
      "      in_channels=1,\n",
      "      out_channels=3,\n",
      "      kernel_size=(4, 4),\n",
      "      stride=(1, 1),\n",
      "      padding=((0, 0), (0, 0)),\n",
      "      dilation=(1, 1),\n",
      "      groups=1,\n",
      "      use_bias=True\n",
      "    ),\n",
      "    MaxPool2d(\n",
      "      init=-inf,\n",
      "      operation=<function max>,\n",
      "      num_spatial_dims=2,\n",
      "      kernel_size=(2, 2),\n",
      "      stride=(1, 1),\n",
      "      padding=((0, 0), (0, 0)),\n",
      "      use_ceil=False\n",
      "    ),\n",
      "    <wrapped function relu>,\n",
      "    <wrapped function ravel>,\n",
      "    Linear(\n",
      "      weight=f32[512,1728],\n",
      "      bias=f32[512],\n",
      "      in_features=1728,\n",
      "      out_features=512,\n",
      "      use_bias=True\n",
      "    ),\n",
      "    <wrapped function sigmoid>,\n",
      "    Linear(\n",
      "      weight=f32[64,512],\n",
      "      bias=f32[64],\n",
      "      in_features=512,\n",
      "      out_features=64,\n",
      "      use_bias=True\n",
      "    ),\n",
      "    <wrapped function relu>,\n",
      "    Linear(\n",
      "      weight=f32[10,64],\n",
      "      bias=f32[10],\n",
      "      in_features=64,\n",
      "      out_features=10,\n",
      "      use_bias=True\n",
      "    ),\n",
      "    <wrapped function log_softmax>\n",
      "  ]\n",
      ")\n"
     ]
    }
   ],
   "source": [
    "print(model)"
   ]
  },
  {
   "cell_type": "markdown",
   "id": "361fafda-d716-4048-9ac5-ca15a2a1a2a5",
   "metadata": {},
   "source": [
    "Given some data, we can perform inference on our model.\n",
    "\n",
    "(**Note** that here we are using JAX operation outside of a JIT'd region. This is very slow! You shouldn't write it like this except when exploring things in a notebook.)"
   ]
  },
  {
   "cell_type": "code",
   "execution_count": 7,
   "id": "f50dbbdf-1193-4624-9fbb-94c68862cdc9",
   "metadata": {
    "tags": []
   },
   "outputs": [
    {
     "name": "stdout",
     "output_type": "stream",
     "text": [
      "()\n",
      "(64, 10)"
     ]
    }
   ],
   "source": [
    "def loss(\n",
    "    model: CNN, x: Float[Array, \"batch 1 28 28\"], y: Int[Array, \" batch\"]\n",
    ") -> Float[Array, \"\"]:\n",
    "    # Our input has the shape (BATCH_SIZE, 1, 28, 28), but our model operations on\n",
    "    # a single input input image of shape (1, 28, 28).\n",
    "    #\n",
    "    # Therefore, we have to use jax.vmap, which in this case maps our model over the\n",
    "    # leading (batch) axis.\n",
    "    pred_y = jax.vmap(model)(x)\n",
    "    return cross_entropy(y, pred_y)\n",
    "\n",
    "\n",
    "def cross_entropy(\n",
    "    y: Int[Array, \" batch\"], pred_y: Float[Array, \"batch 10\"]\n",
    ") -> Float[Array, \"\"]:\n",
    "    # y are the true targets, and should be integers 0-9.\n",
    "    # pred_y are the log-softmax'd predictions.\n",
    "    pred_y = jnp.take_along_axis(pred_y, jnp.expand_dims(y, 1), axis=1)\n",
    "    return -jnp.mean(pred_y)\n",
    "\n",
    "\n",
    "# Example loss\n",
    "loss_value = loss(model, dummy_x, dummy_y)\n",
    "print(loss_value.shape)  # scalar loss\n",
    "# Example inference\n",
    "output = jax.vmap(model)(dummy_x)\n",
    "print(output.shape)  # batch of predictions"
   ]
  },
  {
   "cell_type": "markdown",
   "id": "f99629b5-e96f-43fa-9e9e-29cbc9da8d4a",
   "metadata": {},
   "source": [
    "### Filtering\n",
    "\n",
    "In the next cells we can see an example of when we should use the filter methods provided by Equinox. For instance, the following code generates an error:"
   ]
  },
  {
   "cell_type": "code",
   "execution_count": 8,
   "id": "f719f539-2d5f-460c-8d70-47a721bd414e",
   "metadata": {
    "tags": []
   },
   "outputs": [
    {
     "ename": "TypeError",
     "evalue": "Argument '<function max at 0x7dcabbebee50>' of type <class 'function'> is not a valid JAX type.",
     "output_type": "error",
     "traceback": [
      "\u001b[0;31m---------------------------------------------------------------------------\u001b[0m",
      "\u001b[0;31mTypeError\u001b[0m                                 Traceback (most recent call last)",
      "Cell \u001b[0;32mIn[8], line 2\u001b[0m\n\u001b[1;32m      1\u001b[0m \u001b[38;5;66;03m# This is an error!\u001b[39;00m\n\u001b[0;32m----> 2\u001b[0m \u001b[43mjax\u001b[49m\u001b[38;5;241;43m.\u001b[39;49m\u001b[43mvalue_and_grad\u001b[49m\u001b[43m(\u001b[49m\u001b[43mloss\u001b[49m\u001b[43m)\u001b[49m\u001b[43m(\u001b[49m\u001b[43mmodel\u001b[49m\u001b[43m,\u001b[49m\u001b[43m \u001b[49m\u001b[43mdummy_x\u001b[49m\u001b[43m,\u001b[49m\u001b[43m \u001b[49m\u001b[43mdummy_y\u001b[49m\u001b[43m)\u001b[49m\n",
      "    \u001b[0;31m[... skipping hidden 3 frame]\u001b[0m\n",
      "File \u001b[0;32m~/miniconda3/envs/jax38/lib/python3.8/site-packages/jax/_src/dispatch.py:643\u001b[0m, in \u001b[0;36mcheck_arg\u001b[0;34m(arg)\u001b[0m\n\u001b[1;32m    641\u001b[0m \u001b[38;5;28;01mdef\u001b[39;00m \u001b[38;5;21mcheck_arg\u001b[39m(arg):\n\u001b[1;32m    642\u001b[0m   \u001b[38;5;28;01mif\u001b[39;00m \u001b[38;5;129;01mnot\u001b[39;00m (\u001b[38;5;28misinstance\u001b[39m(arg, core\u001b[38;5;241m.\u001b[39mTracer) \u001b[38;5;129;01mor\u001b[39;00m _valid_jaxtype(arg)):\n\u001b[0;32m--> 643\u001b[0m     \u001b[38;5;28;01mraise\u001b[39;00m \u001b[38;5;167;01mTypeError\u001b[39;00m(\u001b[38;5;124mf\u001b[39m\u001b[38;5;124m\"\u001b[39m\u001b[38;5;124mArgument \u001b[39m\u001b[38;5;124m'\u001b[39m\u001b[38;5;132;01m{\u001b[39;00marg\u001b[38;5;132;01m}\u001b[39;00m\u001b[38;5;124m'\u001b[39m\u001b[38;5;124m of type \u001b[39m\u001b[38;5;132;01m{\u001b[39;00m\u001b[38;5;28mtype\u001b[39m(arg)\u001b[38;5;132;01m}\u001b[39;00m\u001b[38;5;124m is not a valid \u001b[39m\u001b[38;5;124m\"\u001b[39m\n\u001b[1;32m    644\u001b[0m                     \u001b[38;5;124m\"\u001b[39m\u001b[38;5;124mJAX type.\u001b[39m\u001b[38;5;124m\"\u001b[39m)\n",
      "\u001b[0;31mTypeError\u001b[0m: Argument '<function max at 0x7dcabbebee50>' of type <class 'function'> is not a valid JAX type."
     ]
    }
   ],
   "source": [
    "# This is an error!\n",
    "jax.value_and_grad(loss)(model, dummy_x, dummy_y)"
   ]
  },
  {
   "cell_type": "markdown",
   "id": "cea22054-098b-4f87-9cbc-9d99f587eee3",
   "metadata": {},
   "source": [
    "When we write `jax.value_and_grad(loss)(model, ...)`, we are asking JAX to differentiate the function `loss` with respect to its first argument `model`. (To compute the gradients on its parameters.)\n",
    "\n",
    "However, `model` includes several things that aren't parameters! Look back up at the PyTree print-out from earlier, and we see lines like e.g. `<wrapped function relu>` -- this isn't a parameter and isn't even an array.\n",
    "\n",
    "We need to split our model into the bit we want to differentiate (its parameters), and the bit we don't (everything else). If we want to, then we can do this manually:"
   ]
  },
  {
   "cell_type": "code",
   "execution_count": 9,
   "id": "d1813af5-6174-45c0-a785-4a3f0cfd41b4",
   "metadata": {
    "tags": []
   },
   "outputs": [
    {
     "name": "stdout",
     "output_type": "stream",
     "text": [
      "2.3000908\n"
     ]
    }
   ],
   "source": [
    "# This will work!\n",
    "params, static = eqx.partition(model, eqx.is_array)\n",
    "\n",
    "\n",
    "def loss2(params, static, x, y):\n",
    "    model = eqx.combine(params, static)\n",
    "    return loss(model, x, y)\n",
    "\n",
    "\n",
    "loss_value, grads = jax.value_and_grad(loss2)(params, static, dummy_x, dummy_y)\n",
    "print(loss_value)"
   ]
  },
  {
   "cell_type": "markdown",
   "id": "c9a4fee0-587a-440c-b9f7-739768efe30c",
   "metadata": {},
   "source": [
    "It's quite common that all arrays represent parameters, so that \"the bit we want to differentiate\" really just means \"all arrays\". As such, Equinox provides a convenient wrapper `eqx.filter_value_and_grad`, which does the above partitioning-and-combining for us: it automatically splits things into arrays and non-arrays, and then differentiates with respect to all arrays in the first argument:"
   ]
  },
  {
   "cell_type": "code",
   "execution_count": 10,
   "id": "1de35485-c4ef-4ec8-aa4e-b7da79c5c4bf",
   "metadata": {
    "tags": []
   },
   "outputs": [
    {
     "name": "stdout",
     "output_type": "stream",
     "text": [
      "2.3000908\n"
     ]
    }
   ],
   "source": [
    "# This will work too!\n",
    "value, grads = eqx.filter_value_and_grad(loss)(model, dummy_x, dummy_y)\n",
    "print(value)"
   ]
  },
  {
   "cell_type": "markdown",
   "id": "013f3247-0c82-4569-a985-931d19eac449",
   "metadata": {},
   "source": [
    "The Equinox `eqx.filter_{...}` functions are essentially the same as the corresponding JAX functions, and they're just smart enough to handle non-arrays without raising an error. So if you're unsure, you can simply always use the Equinox filter functions."
   ]
  },
  {
   "cell_type": "markdown",
   "id": "d472b812-e67a-4ee0-b18f-f46a25b00676",
   "metadata": {},
   "source": [
    "## Evaluation\n",
    "\n",
    "As with most machine learning tasks, we need some methods to evaluate our model on some testdata. For this we create the following functions. \n",
    "\n",
    "Notice that we used `eqx.filter_jit` instead of `jax.jit` since as usual our model contains non-arrays (e.g. those `relu` activation functions), and those aren't arrays that can be differentiated."
   ]
  },
  {
   "cell_type": "code",
   "execution_count": 11,
   "id": "5472245c-537e-49ca-befd-155bbc693cf8",
   "metadata": {
    "tags": []
   },
   "outputs": [],
   "source": [
    "loss = eqx.filter_jit(loss)  # JIT our loss function from earlier!\n",
    "\n",
    "\n",
    "@eqx.filter_jit\n",
    "def compute_accuracy(\n",
    "    model: CNN, x: Float[Array, \"batch 1 28 28\"], y: Int[Array, \" batch\"]\n",
    ") -> Float[Array, \"\"]:\n",
    "    \"\"\"This function takes as input the current model\n",
    "    and computes the average accuracy on a batch.\n",
    "    \"\"\"\n",
    "    pred_y = jax.vmap(model)(x)\n",
    "    pred_y = jnp.argmax(pred_y, axis=1)\n",
    "    return jnp.mean(y == pred_y)"
   ]
  },
  {
   "cell_type": "code",
   "execution_count": 12,
   "id": "54927e9e-af16-4480-a502-5b5cadd2d881",
   "metadata": {
    "tags": []
   },
   "outputs": [],
   "source": [
    "def evaluate(model: CNN, testloader: torch.utils.data.DataLoader):\n",
    "    \"\"\"This function evaluates the model on the test dataset,\n",
    "    computing both the average loss and the average accuracy.\n",
    "    \"\"\"\n",
    "    avg_loss = 0\n",
    "    avg_acc = 0\n",
    "    for x, y in testloader:\n",
    "        x = x.numpy()\n",
    "        y = y.numpy()\n",
    "        # Note that all the JAX operations happen inside `loss` and `compute_accuracy`,\n",
    "        # and both have JIT wrappers, so this is fast.\n",
    "        avg_loss += loss(model, x, y)\n",
    "        avg_acc += compute_accuracy(model, x, y)\n",
    "    return avg_loss / len(testloader), avg_acc / len(testloader)"
   ]
  },
  {
   "cell_type": "code",
   "execution_count": 13,
   "id": "57f5369a-7f25-42f7-96c0-12447a482acc",
   "metadata": {
    "tags": []
   },
   "outputs": [
    {
     "data": {
      "text/plain": [
       "(Array(2.3077886, dtype=float32), Array(0.10111465, dtype=float32))"
      ]
     },
     "execution_count": 13,
     "metadata": {},
     "output_type": "execute_result"
    }
   ],
   "source": [
    "evaluate(model, testloader)"
   ]
  },
  {
   "cell_type": "markdown",
   "id": "aebdc6b2-a001-41e7-869c-6b151826709c",
   "metadata": {},
   "source": [
    "## Training\n",
    "\n",
    "Now it's time to train our model using Optax!"
   ]
  },
  {
   "cell_type": "code",
   "execution_count": 14,
   "id": "6cc2123c-ad60-4318-8a40-79731f067da8",
   "metadata": {
    "tags": []
   },
   "outputs": [],
   "source": [
    "optim = optax.adamw(LEARNING_RATE)"
   ]
  },
  {
   "cell_type": "code",
   "execution_count": 15,
   "id": "cff12310-ce7b-4eb7-8910-84349afe8e93",
   "metadata": {
    "tags": []
   },
   "outputs": [],
   "source": [
    "def train(\n",
    "    model: CNN,\n",
    "    trainloader: torch.utils.data.DataLoader,\n",
    "    testloader: torch.utils.data.DataLoader,\n",
    "    optim: optax.GradientTransformation,\n",
    "    steps: int,\n",
    "    print_every: int,\n",
    ") -> CNN:\n",
    "    # Just like earlier: It only makes sense to train the arrays in our model,\n",
    "    # so filter out everything else.\n",
    "    opt_state = optim.init(eqx.filter(model, eqx.is_array))\n",
    "\n",
    "    # Always wrap everything -- computing gradients, running the optimiser, updating\n",
    "    # the model -- into a single JIT region. This ensures things run as fast as\n",
    "    # possible.\n",
    "    @eqx.filter_jit\n",
    "    def make_step(\n",
    "        model: CNN,\n",
    "        opt_state: PyTree,\n",
    "        x: Float[Array, \"batch 1 28 28\"],\n",
    "        y: Int[Array, \" batch\"],\n",
    "    ):\n",
    "        loss_value, grads = eqx.filter_value_and_grad(loss)(model, x, y)\n",
    "        updates, opt_state = optim.update(grads, opt_state, model)\n",
    "        model = eqx.apply_updates(model, updates)\n",
    "        return model, opt_state, loss_value\n",
    "\n",
    "    # Loop over our training dataset as many times as we need.\n",
    "    def infinite_trainloader():\n",
    "        while True:\n",
    "            yield from trainloader\n",
    "\n",
    "    for step, (x, y) in zip(range(steps), infinite_trainloader()):\n",
    "        # PyTorch dataloaders give PyTorch tensors by default,\n",
    "        # so convert them to NumPy arrays.\n",
    "        x = x.numpy()\n",
    "        y = y.numpy()\n",
    "        model, opt_state, train_loss = make_step(model, opt_state, x, y)\n",
    "        if (step % print_every) == 0 or (step == steps - 1):\n",
    "            test_loss, test_accuracy = evaluate(model, testloader)\n",
    "            print(\n",
    "                f\"{step=}, train_loss={train_loss.item()}, \"\n",
    "                f\"test_loss={test_loss.item()}, test_accuracy={test_accuracy.item()}\"\n",
    "            )\n",
    "    return model"
   ]
  },
  {
   "cell_type": "code",
   "execution_count": 16,
   "id": "bab00c7f-012a-4ed3-bbe2-2a75a2bdd723",
   "metadata": {
    "tags": []
   },
   "outputs": [
    {
     "name": "stdout",
     "output_type": "stream",
     "text": [
      "step=0, train_loss=2.32609486579895, test_loss=2.299288749694824, test_accuracy=0.10161226242780685\n",
      "step=30, train_loss=2.2150564193725586, test_loss=2.1842434406280518, test_accuracy=0.4199840724468231\n",
      "step=60, train_loss=1.9649711847305298, test_loss=1.9000366926193237, test_accuracy=0.618829607963562\n",
      "step=90, train_loss=1.4872171878814697, test_loss=1.4725608825683594, test_accuracy=0.6449044346809387\n",
      "step=120, train_loss=1.050407886505127, test_loss=1.0521366596221924, test_accuracy=0.7916003465652466\n",
      "step=150, train_loss=0.8088936805725098, test_loss=0.7538199424743652, test_accuracy=0.8578821420669556\n",
      "step=180, train_loss=0.6006966829299927, test_loss=0.574236273765564, test_accuracy=0.865545392036438\n",
      "step=210, train_loss=0.33910322189331055, test_loss=0.4889797866344452, test_accuracy=0.8819665312767029\n",
      "step=240, train_loss=0.33334940671920776, test_loss=0.44309598207473755, test_accuracy=0.8862460255622864\n",
      "step=270, train_loss=0.3595482110977173, test_loss=0.3812088072299957, test_accuracy=0.897292971611023\n",
      "step=299, train_loss=0.35001736879348755, test_loss=0.3582405149936676, test_accuracy=0.9039610028266907\n"
     ]
    }
   ],
   "source": [
    "model = train(model, trainloader, testloader, optim, STEPS, PRINT_EVERY)"
   ]
  },
  {
   "cell_type": "markdown",
   "id": "a1b83759-eb72-4fca-8d23-2e3ce5a1d60c",
   "metadata": {},
   "source": [
    "This is actually a pretty bad final accuracy, as MNIST is so easy. Try tweaking this example to make it better!\n",
    "\n",
    "!!! Tip \"Next steps\"\n",
    "\n",
    "    Hopefully this example has given you a taste of how models are built using JAX and Equinox. For next steps, take a look at the [JAX documentation](https://jax.readthedocs.io/) for more information on JAX, the [All of Equinox page](../all-of-equinox.md) for a summary of everything Equinox can do, or [training an RNN](../train_rnn) for another example."
   ]
  }
 ],
 "metadata": {
  "kernelspec": {
   "display_name": "jax38",
   "language": "python",
   "name": "jax38"
  },
  "language_info": {
   "codemirror_mode": {
    "name": "ipython",
    "version": 3
   },
   "file_extension": ".py",
   "mimetype": "text/x-python",
   "name": "python",
   "nbconvert_exporter": "python",
   "pygments_lexer": "ipython3",
   "version": "3.8.16"
  }
 },
 "nbformat": 4,
 "nbformat_minor": 5
}
